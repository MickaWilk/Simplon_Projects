{
  "cells": [
    {
      "cell_type": "code",
      "execution_count": 102,
      "metadata": {
        "id": "FGRqFAq29Iog"
      },
      "outputs": [],
      "source": [
        "import pandas as pd\n",
        "import matplotlib.pyplot as plt\n",
        "import seaborn as sns\n",
        "import numpy as np\n",
        "from scipy.stats import norm\n",
        "from scipy import stats\n",
        "import warnings\n",
        "warnings.filterwarnings('ignore')\n",
        "%matplotlib inline\n",
        "from sklearn.preprocessing import StandardScaler\n",
        "from sklearn.tree import DecisionTreeRegressor\n",
        "from sklearn.linear_model import LinearRegression\n",
        "from sklearn.model_selection import train_test_split\n",
        "from sklearn.metrics import mean_squared_error\n",
        "from math import sqrt\n",
        "from sklearn.model_selection import GridSearchCV\n",
        "from sklearn.model_selection import KFold\n",
        "from sklearn.svm import SVR\n"
      ]
    },
    {
      "cell_type": "code",
      "execution_count": 103,
      "metadata": {
        "colab": {
          "base_uri": "https://localhost:8080/",
          "height": 363
        },
        "id": "xn0Xmr1p8_yk",
        "outputId": "2b7ebd30-7268-4a44-d167-ff4f2ad620e5"
      },
      "outputs": [
        {
          "data": {
            "text/html": [
              "<div>\n",
              "<style scoped>\n",
              "    .dataframe tbody tr th:only-of-type {\n",
              "        vertical-align: middle;\n",
              "    }\n",
              "\n",
              "    .dataframe tbody tr th {\n",
              "        vertical-align: top;\n",
              "    }\n",
              "\n",
              "    .dataframe thead th {\n",
              "        text-align: right;\n",
              "    }\n",
              "</style>\n",
              "<table border=\"1\" class=\"dataframe\">\n",
              "  <thead>\n",
              "    <tr style=\"text-align: right;\">\n",
              "      <th></th>\n",
              "      <th>mpg</th>\n",
              "      <th>cylinders</th>\n",
              "      <th>displacement</th>\n",
              "      <th>horsepower</th>\n",
              "      <th>weight</th>\n",
              "      <th>acceleration</th>\n",
              "      <th>model_year</th>\n",
              "      <th>origin</th>\n",
              "      <th>name</th>\n",
              "    </tr>\n",
              "  </thead>\n",
              "  <tbody>\n",
              "    <tr>\n",
              "      <th>0</th>\n",
              "      <td>18.0</td>\n",
              "      <td>8</td>\n",
              "      <td>307.0</td>\n",
              "      <td>130.0</td>\n",
              "      <td>3504</td>\n",
              "      <td>12.0</td>\n",
              "      <td>70</td>\n",
              "      <td>usa</td>\n",
              "      <td>chevrolet chevelle malibu</td>\n",
              "    </tr>\n",
              "    <tr>\n",
              "      <th>1</th>\n",
              "      <td>15.0</td>\n",
              "      <td>8</td>\n",
              "      <td>350.0</td>\n",
              "      <td>165.0</td>\n",
              "      <td>3693</td>\n",
              "      <td>11.5</td>\n",
              "      <td>70</td>\n",
              "      <td>usa</td>\n",
              "      <td>buick skylark 320</td>\n",
              "    </tr>\n",
              "    <tr>\n",
              "      <th>2</th>\n",
              "      <td>18.0</td>\n",
              "      <td>8</td>\n",
              "      <td>318.0</td>\n",
              "      <td>150.0</td>\n",
              "      <td>3436</td>\n",
              "      <td>11.0</td>\n",
              "      <td>70</td>\n",
              "      <td>usa</td>\n",
              "      <td>plymouth satellite</td>\n",
              "    </tr>\n",
              "    <tr>\n",
              "      <th>3</th>\n",
              "      <td>16.0</td>\n",
              "      <td>8</td>\n",
              "      <td>304.0</td>\n",
              "      <td>150.0</td>\n",
              "      <td>3433</td>\n",
              "      <td>12.0</td>\n",
              "      <td>70</td>\n",
              "      <td>usa</td>\n",
              "      <td>amc rebel sst</td>\n",
              "    </tr>\n",
              "    <tr>\n",
              "      <th>4</th>\n",
              "      <td>17.0</td>\n",
              "      <td>8</td>\n",
              "      <td>302.0</td>\n",
              "      <td>140.0</td>\n",
              "      <td>3449</td>\n",
              "      <td>10.5</td>\n",
              "      <td>70</td>\n",
              "      <td>usa</td>\n",
              "      <td>ford torino</td>\n",
              "    </tr>\n",
              "    <tr>\n",
              "      <th>5</th>\n",
              "      <td>15.0</td>\n",
              "      <td>8</td>\n",
              "      <td>429.0</td>\n",
              "      <td>198.0</td>\n",
              "      <td>4341</td>\n",
              "      <td>10.0</td>\n",
              "      <td>70</td>\n",
              "      <td>usa</td>\n",
              "      <td>ford galaxie 500</td>\n",
              "    </tr>\n",
              "    <tr>\n",
              "      <th>6</th>\n",
              "      <td>14.0</td>\n",
              "      <td>8</td>\n",
              "      <td>454.0</td>\n",
              "      <td>220.0</td>\n",
              "      <td>4354</td>\n",
              "      <td>9.0</td>\n",
              "      <td>70</td>\n",
              "      <td>usa</td>\n",
              "      <td>chevrolet impala</td>\n",
              "    </tr>\n",
              "    <tr>\n",
              "      <th>7</th>\n",
              "      <td>14.0</td>\n",
              "      <td>8</td>\n",
              "      <td>440.0</td>\n",
              "      <td>215.0</td>\n",
              "      <td>4312</td>\n",
              "      <td>8.5</td>\n",
              "      <td>70</td>\n",
              "      <td>usa</td>\n",
              "      <td>plymouth fury iii</td>\n",
              "    </tr>\n",
              "    <tr>\n",
              "      <th>8</th>\n",
              "      <td>14.0</td>\n",
              "      <td>8</td>\n",
              "      <td>455.0</td>\n",
              "      <td>225.0</td>\n",
              "      <td>4425</td>\n",
              "      <td>10.0</td>\n",
              "      <td>70</td>\n",
              "      <td>usa</td>\n",
              "      <td>pontiac catalina</td>\n",
              "    </tr>\n",
              "    <tr>\n",
              "      <th>9</th>\n",
              "      <td>15.0</td>\n",
              "      <td>8</td>\n",
              "      <td>390.0</td>\n",
              "      <td>190.0</td>\n",
              "      <td>3850</td>\n",
              "      <td>8.5</td>\n",
              "      <td>70</td>\n",
              "      <td>usa</td>\n",
              "      <td>amc ambassador dpl</td>\n",
              "    </tr>\n",
              "  </tbody>\n",
              "</table>\n",
              "</div>"
            ],
            "text/plain": [
              "    mpg  cylinders  displacement  horsepower  weight  acceleration  \\\n",
              "0  18.0          8         307.0       130.0    3504          12.0   \n",
              "1  15.0          8         350.0       165.0    3693          11.5   \n",
              "2  18.0          8         318.0       150.0    3436          11.0   \n",
              "3  16.0          8         304.0       150.0    3433          12.0   \n",
              "4  17.0          8         302.0       140.0    3449          10.5   \n",
              "5  15.0          8         429.0       198.0    4341          10.0   \n",
              "6  14.0          8         454.0       220.0    4354           9.0   \n",
              "7  14.0          8         440.0       215.0    4312           8.5   \n",
              "8  14.0          8         455.0       225.0    4425          10.0   \n",
              "9  15.0          8         390.0       190.0    3850           8.5   \n",
              "\n",
              "   model_year origin                       name  \n",
              "0          70    usa  chevrolet chevelle malibu  \n",
              "1          70    usa          buick skylark 320  \n",
              "2          70    usa         plymouth satellite  \n",
              "3          70    usa              amc rebel sst  \n",
              "4          70    usa                ford torino  \n",
              "5          70    usa           ford galaxie 500  \n",
              "6          70    usa           chevrolet impala  \n",
              "7          70    usa          plymouth fury iii  \n",
              "8          70    usa           pontiac catalina  \n",
              "9          70    usa         amc ambassador dpl  "
            ]
          },
          "execution_count": 103,
          "metadata": {},
          "output_type": "execute_result"
        }
      ],
      "source": [
        "df = sns.load_dataset('mpg')\n",
        "df.head(10)"
      ]
    },
    {
      "cell_type": "code",
      "execution_count": 104,
      "metadata": {
        "colab": {
          "base_uri": "https://localhost:8080/",
          "height": 300
        },
        "id": "GIAXdGvFC2CE",
        "outputId": "ad9f8020-d51a-45c1-dcfb-3f58f5321de6"
      },
      "outputs": [
        {
          "data": {
            "text/html": [
              "<div>\n",
              "<style scoped>\n",
              "    .dataframe tbody tr th:only-of-type {\n",
              "        vertical-align: middle;\n",
              "    }\n",
              "\n",
              "    .dataframe tbody tr th {\n",
              "        vertical-align: top;\n",
              "    }\n",
              "\n",
              "    .dataframe thead th {\n",
              "        text-align: right;\n",
              "    }\n",
              "</style>\n",
              "<table border=\"1\" class=\"dataframe\">\n",
              "  <thead>\n",
              "    <tr style=\"text-align: right;\">\n",
              "      <th></th>\n",
              "      <th>mpg</th>\n",
              "      <th>cylinders</th>\n",
              "      <th>displacement</th>\n",
              "      <th>horsepower</th>\n",
              "      <th>weight</th>\n",
              "      <th>acceleration</th>\n",
              "      <th>model_year</th>\n",
              "    </tr>\n",
              "  </thead>\n",
              "  <tbody>\n",
              "    <tr>\n",
              "      <th>count</th>\n",
              "      <td>398.000000</td>\n",
              "      <td>398.000000</td>\n",
              "      <td>398.000000</td>\n",
              "      <td>392.000000</td>\n",
              "      <td>398.000000</td>\n",
              "      <td>398.000000</td>\n",
              "      <td>398.000000</td>\n",
              "    </tr>\n",
              "    <tr>\n",
              "      <th>mean</th>\n",
              "      <td>23.514573</td>\n",
              "      <td>5.454774</td>\n",
              "      <td>193.425879</td>\n",
              "      <td>104.469388</td>\n",
              "      <td>2970.424623</td>\n",
              "      <td>15.568090</td>\n",
              "      <td>76.010050</td>\n",
              "    </tr>\n",
              "    <tr>\n",
              "      <th>std</th>\n",
              "      <td>7.815984</td>\n",
              "      <td>1.701004</td>\n",
              "      <td>104.269838</td>\n",
              "      <td>38.491160</td>\n",
              "      <td>846.841774</td>\n",
              "      <td>2.757689</td>\n",
              "      <td>3.697627</td>\n",
              "    </tr>\n",
              "    <tr>\n",
              "      <th>min</th>\n",
              "      <td>9.000000</td>\n",
              "      <td>3.000000</td>\n",
              "      <td>68.000000</td>\n",
              "      <td>46.000000</td>\n",
              "      <td>1613.000000</td>\n",
              "      <td>8.000000</td>\n",
              "      <td>70.000000</td>\n",
              "    </tr>\n",
              "    <tr>\n",
              "      <th>25%</th>\n",
              "      <td>17.500000</td>\n",
              "      <td>4.000000</td>\n",
              "      <td>104.250000</td>\n",
              "      <td>75.000000</td>\n",
              "      <td>2223.750000</td>\n",
              "      <td>13.825000</td>\n",
              "      <td>73.000000</td>\n",
              "    </tr>\n",
              "    <tr>\n",
              "      <th>50%</th>\n",
              "      <td>23.000000</td>\n",
              "      <td>4.000000</td>\n",
              "      <td>148.500000</td>\n",
              "      <td>93.500000</td>\n",
              "      <td>2803.500000</td>\n",
              "      <td>15.500000</td>\n",
              "      <td>76.000000</td>\n",
              "    </tr>\n",
              "    <tr>\n",
              "      <th>75%</th>\n",
              "      <td>29.000000</td>\n",
              "      <td>8.000000</td>\n",
              "      <td>262.000000</td>\n",
              "      <td>126.000000</td>\n",
              "      <td>3608.000000</td>\n",
              "      <td>17.175000</td>\n",
              "      <td>79.000000</td>\n",
              "    </tr>\n",
              "    <tr>\n",
              "      <th>max</th>\n",
              "      <td>46.600000</td>\n",
              "      <td>8.000000</td>\n",
              "      <td>455.000000</td>\n",
              "      <td>230.000000</td>\n",
              "      <td>5140.000000</td>\n",
              "      <td>24.800000</td>\n",
              "      <td>82.000000</td>\n",
              "    </tr>\n",
              "  </tbody>\n",
              "</table>\n",
              "</div>"
            ],
            "text/plain": [
              "              mpg   cylinders  displacement  horsepower       weight  \\\n",
              "count  398.000000  398.000000    398.000000  392.000000   398.000000   \n",
              "mean    23.514573    5.454774    193.425879  104.469388  2970.424623   \n",
              "std      7.815984    1.701004    104.269838   38.491160   846.841774   \n",
              "min      9.000000    3.000000     68.000000   46.000000  1613.000000   \n",
              "25%     17.500000    4.000000    104.250000   75.000000  2223.750000   \n",
              "50%     23.000000    4.000000    148.500000   93.500000  2803.500000   \n",
              "75%     29.000000    8.000000    262.000000  126.000000  3608.000000   \n",
              "max     46.600000    8.000000    455.000000  230.000000  5140.000000   \n",
              "\n",
              "       acceleration  model_year  \n",
              "count    398.000000  398.000000  \n",
              "mean      15.568090   76.010050  \n",
              "std        2.757689    3.697627  \n",
              "min        8.000000   70.000000  \n",
              "25%       13.825000   73.000000  \n",
              "50%       15.500000   76.000000  \n",
              "75%       17.175000   79.000000  \n",
              "max       24.800000   82.000000  "
            ]
          },
          "execution_count": 104,
          "metadata": {},
          "output_type": "execute_result"
        }
      ],
      "source": [
        "df.describe()"
      ]
    },
    {
      "cell_type": "code",
      "execution_count": 105,
      "metadata": {
        "colab": {
          "base_uri": "https://localhost:8080/"
        },
        "id": "Hzg8tx2yD9qW",
        "outputId": "2bde9b76-4d96-4dde-d248-a43605538030"
      },
      "outputs": [
        {
          "data": {
            "text/plain": [
              "False"
            ]
          },
          "execution_count": 105,
          "metadata": {},
          "output_type": "execute_result"
        }
      ],
      "source": [
        "df.duplicated().any()"
      ]
    },
    {
      "cell_type": "code",
      "execution_count": 106,
      "metadata": {
        "colab": {
          "base_uri": "https://localhost:8080/"
        },
        "id": "_s7v3DqaCJNT",
        "outputId": "3883d81c-02f5-48d8-b34b-eaf937b02bb8"
      },
      "outputs": [
        {
          "data": {
            "text/plain": [
              "mpg             False\n",
              "cylinders       False\n",
              "displacement    False\n",
              "horsepower       True\n",
              "weight          False\n",
              "acceleration    False\n",
              "model_year      False\n",
              "origin          False\n",
              "name            False\n",
              "dtype: bool"
            ]
          },
          "execution_count": 106,
          "metadata": {},
          "output_type": "execute_result"
        }
      ],
      "source": [
        "df.isnull().any()"
      ]
    },
    {
      "cell_type": "code",
      "execution_count": 107,
      "metadata": {
        "colab": {
          "base_uri": "https://localhost:8080/"
        },
        "id": "gSIJkgtlCZV2",
        "outputId": "57258fdc-28e7-4b29-dd3a-81395a75b527"
      },
      "outputs": [
        {
          "data": {
            "text/plain": [
              "6"
            ]
          },
          "execution_count": 107,
          "metadata": {},
          "output_type": "execute_result"
        }
      ],
      "source": [
        "df['horsepower'].isnull().sum()"
      ]
    },
    {
      "cell_type": "code",
      "execution_count": 108,
      "metadata": {
        "id": "BhnHRt2MClba"
      },
      "outputs": [],
      "source": [
        "df.dropna(inplace = True) "
      ]
    },
    {
      "cell_type": "code",
      "execution_count": 109,
      "metadata": {},
      "outputs": [],
      "source": [
        "df = df.sort_values(by='horsepower')"
      ]
    },
    {
      "cell_type": "code",
      "execution_count": 110,
      "metadata": {
        "colab": {
          "base_uri": "https://localhost:8080/",
          "height": 300
        },
        "id": "jbBHnRv2DmRU",
        "outputId": "e4edb39f-ac66-4742-ca2d-e8daf42115dc"
      },
      "outputs": [
        {
          "data": {
            "text/html": [
              "<div>\n",
              "<style scoped>\n",
              "    .dataframe tbody tr th:only-of-type {\n",
              "        vertical-align: middle;\n",
              "    }\n",
              "\n",
              "    .dataframe tbody tr th {\n",
              "        vertical-align: top;\n",
              "    }\n",
              "\n",
              "    .dataframe thead th {\n",
              "        text-align: right;\n",
              "    }\n",
              "</style>\n",
              "<table border=\"1\" class=\"dataframe\">\n",
              "  <thead>\n",
              "    <tr style=\"text-align: right;\">\n",
              "      <th></th>\n",
              "      <th>mpg</th>\n",
              "      <th>cylinders</th>\n",
              "      <th>displacement</th>\n",
              "      <th>horsepower</th>\n",
              "      <th>weight</th>\n",
              "      <th>acceleration</th>\n",
              "      <th>model_year</th>\n",
              "    </tr>\n",
              "  </thead>\n",
              "  <tbody>\n",
              "    <tr>\n",
              "      <th>count</th>\n",
              "      <td>392.000000</td>\n",
              "      <td>392.000000</td>\n",
              "      <td>392.000000</td>\n",
              "      <td>392.000000</td>\n",
              "      <td>392.000000</td>\n",
              "      <td>392.000000</td>\n",
              "      <td>392.000000</td>\n",
              "    </tr>\n",
              "    <tr>\n",
              "      <th>mean</th>\n",
              "      <td>23.445918</td>\n",
              "      <td>5.471939</td>\n",
              "      <td>194.411990</td>\n",
              "      <td>104.469388</td>\n",
              "      <td>2977.584184</td>\n",
              "      <td>15.541327</td>\n",
              "      <td>75.979592</td>\n",
              "    </tr>\n",
              "    <tr>\n",
              "      <th>std</th>\n",
              "      <td>7.805007</td>\n",
              "      <td>1.705783</td>\n",
              "      <td>104.644004</td>\n",
              "      <td>38.491160</td>\n",
              "      <td>849.402560</td>\n",
              "      <td>2.758864</td>\n",
              "      <td>3.683737</td>\n",
              "    </tr>\n",
              "    <tr>\n",
              "      <th>min</th>\n",
              "      <td>9.000000</td>\n",
              "      <td>3.000000</td>\n",
              "      <td>68.000000</td>\n",
              "      <td>46.000000</td>\n",
              "      <td>1613.000000</td>\n",
              "      <td>8.000000</td>\n",
              "      <td>70.000000</td>\n",
              "    </tr>\n",
              "    <tr>\n",
              "      <th>25%</th>\n",
              "      <td>17.000000</td>\n",
              "      <td>4.000000</td>\n",
              "      <td>105.000000</td>\n",
              "      <td>75.000000</td>\n",
              "      <td>2225.250000</td>\n",
              "      <td>13.775000</td>\n",
              "      <td>73.000000</td>\n",
              "    </tr>\n",
              "    <tr>\n",
              "      <th>50%</th>\n",
              "      <td>22.750000</td>\n",
              "      <td>4.000000</td>\n",
              "      <td>151.000000</td>\n",
              "      <td>93.500000</td>\n",
              "      <td>2803.500000</td>\n",
              "      <td>15.500000</td>\n",
              "      <td>76.000000</td>\n",
              "    </tr>\n",
              "    <tr>\n",
              "      <th>75%</th>\n",
              "      <td>29.000000</td>\n",
              "      <td>8.000000</td>\n",
              "      <td>275.750000</td>\n",
              "      <td>126.000000</td>\n",
              "      <td>3614.750000</td>\n",
              "      <td>17.025000</td>\n",
              "      <td>79.000000</td>\n",
              "    </tr>\n",
              "    <tr>\n",
              "      <th>max</th>\n",
              "      <td>46.600000</td>\n",
              "      <td>8.000000</td>\n",
              "      <td>455.000000</td>\n",
              "      <td>230.000000</td>\n",
              "      <td>5140.000000</td>\n",
              "      <td>24.800000</td>\n",
              "      <td>82.000000</td>\n",
              "    </tr>\n",
              "  </tbody>\n",
              "</table>\n",
              "</div>"
            ],
            "text/plain": [
              "              mpg   cylinders  displacement  horsepower       weight  \\\n",
              "count  392.000000  392.000000    392.000000  392.000000   392.000000   \n",
              "mean    23.445918    5.471939    194.411990  104.469388  2977.584184   \n",
              "std      7.805007    1.705783    104.644004   38.491160   849.402560   \n",
              "min      9.000000    3.000000     68.000000   46.000000  1613.000000   \n",
              "25%     17.000000    4.000000    105.000000   75.000000  2225.250000   \n",
              "50%     22.750000    4.000000    151.000000   93.500000  2803.500000   \n",
              "75%     29.000000    8.000000    275.750000  126.000000  3614.750000   \n",
              "max     46.600000    8.000000    455.000000  230.000000  5140.000000   \n",
              "\n",
              "       acceleration  model_year  \n",
              "count    392.000000  392.000000  \n",
              "mean      15.541327   75.979592  \n",
              "std        2.758864    3.683737  \n",
              "min        8.000000   70.000000  \n",
              "25%       13.775000   73.000000  \n",
              "50%       15.500000   76.000000  \n",
              "75%       17.025000   79.000000  \n",
              "max       24.800000   82.000000  "
            ]
          },
          "execution_count": 110,
          "metadata": {},
          "output_type": "execute_result"
        }
      ],
      "source": [
        "df.describe()"
      ]
    },
    {
      "cell_type": "code",
      "execution_count": 111,
      "metadata": {
        "colab": {
          "base_uri": "https://localhost:8080/",
          "height": 608
        },
        "id": "1k2XYZii9oJn",
        "outputId": "dbb6b24a-972e-4709-f28f-7daba9939e93"
      },
      "outputs": [
        {
          "data": {
            "image/png": "[encoded data removed]",
            "text/plain": [
              "<Figure size 1440x720 with 9 Axes>"
            ]
          },
          "metadata": {
            "needs_background": "light"
          },
          "output_type": "display_data"
        }
      ],
      "source": [
        "plt.figure(figsize=(20,10))\n",
        "for index, column in enumerate(df.columns):\n",
        "    plt.subplot(2,5,index+1)\n",
        "    sns.histplot(df[column])\n",
        "    plt.title(f\"Distribution by column : {column}\", fontsize=10)\n",
        "plt.show()"
      ]
    },
    {
      "cell_type": "code",
      "execution_count": 112,
      "metadata": {
        "colab": {
          "base_uri": "https://localhost:8080/",
          "height": 373
        },
        "id": "34psa4IA-kx7",
        "outputId": "9e8522d8-1a23-4bd1-f58c-d523a7420e14"
      },
      "outputs": [
        {
          "data": {
            "image/png": "[encoded data removed]",
            "text/plain": [
              "<Figure size 430.75x360 with 1 Axes>"
            ]
          },
          "metadata": {
            "needs_background": "light"
          },
          "output_type": "display_data"
        }
      ],
      "source": [
        "var = 'horsepower'\n",
        "plot = sns.lmplot(var,'mpg',data=df, hue = 'origin')\n",
        "plot.set(ylim = (0,50));"
      ]
    },
    {
      "cell_type": "code",
      "execution_count": 113,
      "metadata": {
        "colab": {
          "base_uri": "https://localhost:8080/",
          "height": 373
        },
        "id": "qA6rQbtvA16L",
        "outputId": "d50ef568-72ab-4db9-a31e-e779befd8528"
      },
      "outputs": [
        {
          "data": {
            "image/png": "[encoded data removed]",
            "text/plain": [
              "<Figure size 430.75x360 with 1 Axes>"
            ]
          },
          "metadata": {
            "needs_background": "light"
          },
          "output_type": "display_data"
        }
      ],
      "source": [
        "var = 'weight'\n",
        "plot = sns.lmplot(var,'mpg',data=df, hue = 'origin')\n",
        "plot.set(ylim = (0,50));"
      ]
    },
    {
      "cell_type": "code",
      "execution_count": 114,
      "metadata": {
        "id": "127bLYefALku"
      },
      "outputs": [],
      "source": [
        "X = df[['horsepower', 'weight']]\n",
        "y = df['mpg']"
      ]
    },
    {
      "cell_type": "code",
      "execution_count": 115,
      "metadata": {
        "id": "ycf4tcRrBDIi"
      },
      "outputs": [],
      "source": [
        "X_train,X_test,y_train,y_test=train_test_split(X,y,test_size = 0.33,random_state=100)"
      ]
    },
    {
      "cell_type": "code",
      "execution_count": 116,
      "metadata": {
        "id": "dyDIkUxXE4AG"
      },
      "outputs": [],
      "source": [
        "scaler = StandardScaler()"
      ]
    },
    {
      "cell_type": "code",
      "execution_count": 117,
      "metadata": {
        "id": "LlsQ3VMPFs6M"
      },
      "outputs": [],
      "source": [
        "X_train_scaled = scaler.fit_transform(X_train)"
      ]
    },
    {
      "cell_type": "code",
      "execution_count": 118,
      "metadata": {
        "id": "y3qV24yBF5lx"
      },
      "outputs": [],
      "source": [
        "X_test_scaled = scaler.transform(X_test)"
      ]
    },
    {
      "cell_type": "code",
      "execution_count": 119,
      "metadata": {
        "id": "X48AHAX5GBgS"
      },
      "outputs": [],
      "source": [
        "rbf_model = SVR()\n",
        "rbf_model.fit(X_train_scaled,y_train)\n",
        "rbf_y_pred = rbf_model.predict(X_test_scaled)\n",
        "rbf_score = rbf_model.score(X_test_scaled,y_test)\n",
        "rbf_params = rbf_model.get_params()\n",
        "rbf_intercept = rbf_model.intercept_"
      ]
    },
    {
      "cell_type": "code",
      "execution_count": 120,
      "metadata": {
        "colab": {
          "base_uri": "https://localhost:8080/"
        },
        "id": "F7FgGYrfJsFw",
        "outputId": "a7925f1c-8e4b-4e7c-8c7b-4beff875df28"
      },
      "outputs": [
        {
          "data": {
            "text/plain": [
              "0.6982469719543396"
            ]
          },
          "execution_count": 120,
          "metadata": {},
          "output_type": "execute_result"
        }
      ],
      "source": [
        "linear_model = SVR(kernel='linear')\n",
        "linear_model.fit(X_train_scaled,y_train)\n",
        "linear_y_pred = linear_model.predict(X_test_scaled)\n",
        "linear_score = linear_model.score(X_test_scaled,y_test)\n",
        "linear_score"
      ]
    },
    {
      "cell_type": "code",
      "execution_count": 121,
      "metadata": {
        "colab": {
          "base_uri": "https://localhost:8080/"
        },
        "id": "atZWYzdkLHJF",
        "outputId": "34e5eb31-aed8-45c9-e4a9-01e208f098a2"
      },
      "outputs": [
        {
          "data": {
            "text/plain": [
              "{'C': 1.0,\n",
              " 'cache_size': 200,\n",
              " 'coef0': 0.0,\n",
              " 'degree': 3,\n",
              " 'epsilon': 0.1,\n",
              " 'gamma': 'scale',\n",
              " 'kernel': 'linear',\n",
              " 'max_iter': -1,\n",
              " 'shrinking': True,\n",
              " 'tol': 0.001,\n",
              " 'verbose': False}"
            ]
          },
          "execution_count": 121,
          "metadata": {},
          "output_type": "execute_result"
        }
      ],
      "source": [
        "linear_params = linear_model.get_params()\n",
        "linear_intercept = linear_model.intercept_\n",
        "linear_params"
      ]
    },
    {
      "cell_type": "code",
      "execution_count": 122,
      "metadata": {
        "colab": {
          "base_uri": "https://localhost:8080/"
        },
        "id": "CnYPqY1PJJli",
        "outputId": "14c4bb8f-fac7-4da8-9157-0f119ebaf374"
      },
      "outputs": [
        {
          "data": {
            "text/plain": [
              "array([[-1.5747882 , -4.78031539]])"
            ]
          },
          "execution_count": 122,
          "metadata": {},
          "output_type": "execute_result"
        }
      ],
      "source": [
        "linear_model.coef_"
      ]
    },
    {
      "cell_type": "code",
      "execution_count": 123,
      "metadata": {
        "id": "RnNsBWkFLkp7"
      },
      "outputs": [],
      "source": [
        "sigmoid_model = SVR(kernel = 'sigmoid')\n",
        "sigmoid_model.fit(X_train_scaled,y_train)\n",
        "sigmoid_y_pred = sigmoid_model.predict(X_test_scaled)\n",
        "sigmoid_score = sigmoid_model.score(X_test_scaled,y_test)\n",
        "sigmoid_params = sigmoid_model.get_params()\n",
        "sigmoid_intercept = sigmoid_model.intercept_"
      ]
    },
    {
      "cell_type": "code",
      "execution_count": 124,
      "metadata": {
        "colab": {
          "base_uri": "https://localhost:8080/"
        },
        "id": "-rM2O3YgLvee",
        "outputId": "ab25b59b-fec5-48be-83d0-edbd8863b73b"
      },
      "outputs": [
        {
          "data": {
            "text/plain": [
              "-0.21050990875987718"
            ]
          },
          "execution_count": 124,
          "metadata": {},
          "output_type": "execute_result"
        }
      ],
      "source": [
        "sigmoid_score"
      ]
    },
    {
      "cell_type": "code",
      "execution_count": 125,
      "metadata": {
        "colab": {
          "base_uri": "https://localhost:8080/"
        },
        "id": "z_PXFi85LzPB",
        "outputId": "90086ee3-cdbd-4ec8-8854-1581431c87b3"
      },
      "outputs": [
        {
          "data": {
            "text/plain": [
              "{'C': 1.0,\n",
              " 'cache_size': 200,\n",
              " 'coef0': 0.0,\n",
              " 'degree': 3,\n",
              " 'epsilon': 0.1,\n",
              " 'gamma': 'scale',\n",
              " 'kernel': 'sigmoid',\n",
              " 'max_iter': -1,\n",
              " 'shrinking': True,\n",
              " 'tol': 0.001,\n",
              " 'verbose': False}"
            ]
          },
          "execution_count": 125,
          "metadata": {},
          "output_type": "execute_result"
        }
      ],
      "source": [
        "sigmoid_params"
      ]
    },
    {
      "cell_type": "code",
      "execution_count": 126,
      "metadata": {},
      "outputs": [
        {
          "data": {
            "text/html": [
              "<div>\n",
              "<style scoped>\n",
              "    .dataframe tbody tr th:only-of-type {\n",
              "        vertical-align: middle;\n",
              "    }\n",
              "\n",
              "    .dataframe tbody tr th {\n",
              "        vertical-align: top;\n",
              "    }\n",
              "\n",
              "    .dataframe thead th {\n",
              "        text-align: right;\n",
              "    }\n",
              "</style>\n",
              "<table border=\"1\" class=\"dataframe\">\n",
              "  <thead>\n",
              "    <tr style=\"text-align: right;\">\n",
              "      <th></th>\n",
              "      <th>0</th>\n",
              "      <th>1</th>\n",
              "    </tr>\n",
              "  </thead>\n",
              "  <tbody>\n",
              "    <tr>\n",
              "      <th>0</th>\n",
              "      <td>-0.998475</td>\n",
              "      <td>-1.204412</td>\n",
              "    </tr>\n",
              "    <tr>\n",
              "      <th>1</th>\n",
              "      <td>-0.009634</td>\n",
              "      <td>0.828773</td>\n",
              "    </tr>\n",
              "    <tr>\n",
              "      <th>2</th>\n",
              "      <td>2.202247</td>\n",
              "      <td>1.627156</td>\n",
              "    </tr>\n",
              "    <tr>\n",
              "      <th>3</th>\n",
              "      <td>-1.362785</td>\n",
              "      <td>-1.381958</td>\n",
              "    </tr>\n",
              "    <tr>\n",
              "      <th>4</th>\n",
              "      <td>-0.269855</td>\n",
              "      <td>-0.717593</td>\n",
              "    </tr>\n",
              "    <tr>\n",
              "      <th>...</th>\n",
              "      <td>...</td>\n",
              "      <td>...</td>\n",
              "    </tr>\n",
              "    <tr>\n",
              "      <th>257</th>\n",
              "      <td>1.161362</td>\n",
              "      <td>0.497736</td>\n",
              "    </tr>\n",
              "    <tr>\n",
              "      <th>258</th>\n",
              "      <td>1.603738</td>\n",
              "      <td>2.181557</td>\n",
              "    </tr>\n",
              "    <tr>\n",
              "      <th>259</th>\n",
              "      <td>1.109317</td>\n",
              "      <td>1.896338</td>\n",
              "    </tr>\n",
              "    <tr>\n",
              "      <th>260</th>\n",
              "      <td>0.250587</td>\n",
              "      <td>-0.378538</td>\n",
              "    </tr>\n",
              "    <tr>\n",
              "      <th>261</th>\n",
              "      <td>-1.388807</td>\n",
              "      <td>-0.998230</td>\n",
              "    </tr>\n",
              "  </tbody>\n",
              "</table>\n",
              "<p>262 rows × 2 columns</p>\n",
              "</div>"
            ],
            "text/plain": [
              "            0         1\n",
              "0   -0.998475 -1.204412\n",
              "1   -0.009634  0.828773\n",
              "2    2.202247  1.627156\n",
              "3   -1.362785 -1.381958\n",
              "4   -0.269855 -0.717593\n",
              "..        ...       ...\n",
              "257  1.161362  0.497736\n",
              "258  1.603738  2.181557\n",
              "259  1.109317  1.896338\n",
              "260  0.250587 -0.378538\n",
              "261 -1.388807 -0.998230\n",
              "\n",
              "[262 rows x 2 columns]"
            ]
          },
          "execution_count": 126,
          "metadata": {},
          "output_type": "execute_result"
        }
      ],
      "source": [
        "# X_train_sorted = np.sort(X_train_scaled[:,0]).reshape(262,1)\n",
        "X_train_scaled_df = pd.DataFrame(X_train_scaled)\n",
        "X_train_scaled_df"
      ]
    },
    {
      "cell_type": "code",
      "execution_count": 130,
      "metadata": {},
      "outputs": [],
      "source": [
        "X_train_scaled_df = X_train_scaled_df.sort_values(by=[0, 'y']).reset_index()"
      ]
    },
    {
      "cell_type": "code",
      "execution_count": 127,
      "metadata": {},
      "outputs": [
        {
          "data": {
            "text/html": [
              "<div>\n",
              "<style scoped>\n",
              "    .dataframe tbody tr th:only-of-type {\n",
              "        vertical-align: middle;\n",
              "    }\n",
              "\n",
              "    .dataframe tbody tr th {\n",
              "        vertical-align: top;\n",
              "    }\n",
              "\n",
              "    .dataframe thead th {\n",
              "        text-align: right;\n",
              "    }\n",
              "</style>\n",
              "<table border=\"1\" class=\"dataframe\">\n",
              "  <thead>\n",
              "    <tr style=\"text-align: right;\">\n",
              "      <th></th>\n",
              "      <th>0</th>\n",
              "      <th>1</th>\n",
              "    </tr>\n",
              "  </thead>\n",
              "  <tbody>\n",
              "    <tr>\n",
              "      <th>0</th>\n",
              "      <td>-0.998475</td>\n",
              "      <td>-1.204412</td>\n",
              "    </tr>\n",
              "    <tr>\n",
              "      <th>1</th>\n",
              "      <td>-0.009634</td>\n",
              "      <td>0.828773</td>\n",
              "    </tr>\n",
              "    <tr>\n",
              "      <th>2</th>\n",
              "      <td>2.202247</td>\n",
              "      <td>1.627156</td>\n",
              "    </tr>\n",
              "    <tr>\n",
              "      <th>3</th>\n",
              "      <td>-1.362785</td>\n",
              "      <td>-1.381958</td>\n",
              "    </tr>\n",
              "    <tr>\n",
              "      <th>4</th>\n",
              "      <td>-0.269855</td>\n",
              "      <td>-0.717593</td>\n",
              "    </tr>\n",
              "    <tr>\n",
              "      <th>...</th>\n",
              "      <td>...</td>\n",
              "      <td>...</td>\n",
              "    </tr>\n",
              "    <tr>\n",
              "      <th>257</th>\n",
              "      <td>1.161362</td>\n",
              "      <td>0.497736</td>\n",
              "    </tr>\n",
              "    <tr>\n",
              "      <th>258</th>\n",
              "      <td>1.603738</td>\n",
              "      <td>2.181557</td>\n",
              "    </tr>\n",
              "    <tr>\n",
              "      <th>259</th>\n",
              "      <td>1.109317</td>\n",
              "      <td>1.896338</td>\n",
              "    </tr>\n",
              "    <tr>\n",
              "      <th>260</th>\n",
              "      <td>0.250587</td>\n",
              "      <td>-0.378538</td>\n",
              "    </tr>\n",
              "    <tr>\n",
              "      <th>261</th>\n",
              "      <td>-1.388807</td>\n",
              "      <td>-0.998230</td>\n",
              "    </tr>\n",
              "  </tbody>\n",
              "</table>\n",
              "<p>262 rows × 2 columns</p>\n",
              "</div>"
            ],
            "text/plain": [
              "            0         1\n",
              "0   -0.998475 -1.204412\n",
              "1   -0.009634  0.828773\n",
              "2    2.202247  1.627156\n",
              "3   -1.362785 -1.381958\n",
              "4   -0.269855 -0.717593\n",
              "..        ...       ...\n",
              "257  1.161362  0.497736\n",
              "258  1.603738  2.181557\n",
              "259  1.109317  1.896338\n",
              "260  0.250587 -0.378538\n",
              "261 -1.388807 -0.998230\n",
              "\n",
              "[262 rows x 2 columns]"
            ]
          },
          "execution_count": 127,
          "metadata": {},
          "output_type": "execute_result"
        }
      ],
      "source": [
        "X_train_scaled_df"
      ]
    },
    {
      "cell_type": "code",
      "execution_count": 128,
      "metadata": {},
      "outputs": [],
      "source": [
        "y_train = y_train.reset_index()"
      ]
    },
    {
      "cell_type": "code",
      "execution_count": 129,
      "metadata": {},
      "outputs": [],
      "source": [
        "X_train_scaled_df[\"y\"] = y_train['mpg']"
      ]
    },
    {
      "cell_type": "code",
      "execution_count": 131,
      "metadata": {},
      "outputs": [
        {
          "data": {
            "text/html": [
              "<div>\n",
              "<style scoped>\n",
              "    .dataframe tbody tr th:only-of-type {\n",
              "        vertical-align: middle;\n",
              "    }\n",
              "\n",
              "    .dataframe tbody tr th {\n",
              "        vertical-align: top;\n",
              "    }\n",
              "\n",
              "    .dataframe thead th {\n",
              "        text-align: right;\n",
              "    }\n",
              "</style>\n",
              "<table border=\"1\" class=\"dataframe\">\n",
              "  <thead>\n",
              "    <tr style=\"text-align: right;\">\n",
              "      <th></th>\n",
              "      <th>index</th>\n",
              "      <th>0</th>\n",
              "      <th>1</th>\n",
              "      <th>y</th>\n",
              "    </tr>\n",
              "  </thead>\n",
              "  <tbody>\n",
              "    <tr>\n",
              "      <th>0</th>\n",
              "      <td>198</td>\n",
              "      <td>-1.544940</td>\n",
              "      <td>-1.336140</td>\n",
              "      <td>26.0</td>\n",
              "    </tr>\n",
              "    <tr>\n",
              "      <th>1</th>\n",
              "      <td>232</td>\n",
              "      <td>-1.492895</td>\n",
              "      <td>-1.164321</td>\n",
              "      <td>43.1</td>\n",
              "    </tr>\n",
              "    <tr>\n",
              "      <th>2</th>\n",
              "      <td>221</td>\n",
              "      <td>-1.492895</td>\n",
              "      <td>-0.763412</td>\n",
              "      <td>43.4</td>\n",
              "    </tr>\n",
              "    <tr>\n",
              "      <th>3</th>\n",
              "      <td>165</td>\n",
              "      <td>-1.388807</td>\n",
              "      <td>-1.549195</td>\n",
              "      <td>31.0</td>\n",
              "    </tr>\n",
              "    <tr>\n",
              "      <th>4</th>\n",
              "      <td>261</td>\n",
              "      <td>-1.388807</td>\n",
              "      <td>-0.998230</td>\n",
              "      <td>44.0</td>\n",
              "    </tr>\n",
              "    <tr>\n",
              "      <th>...</th>\n",
              "      <td>...</td>\n",
              "      <td>...</td>\n",
              "      <td>...</td>\n",
              "      <td>...</td>\n",
              "    </tr>\n",
              "    <tr>\n",
              "      <th>257</th>\n",
              "      <td>201</td>\n",
              "      <td>2.722689</td>\n",
              "      <td>1.581338</td>\n",
              "      <td>11.0</td>\n",
              "    </tr>\n",
              "    <tr>\n",
              "      <th>258</th>\n",
              "      <td>169</td>\n",
              "      <td>2.852800</td>\n",
              "      <td>1.501156</td>\n",
              "      <td>14.0</td>\n",
              "    </tr>\n",
              "    <tr>\n",
              "      <th>259</th>\n",
              "      <td>230</td>\n",
              "      <td>3.113021</td>\n",
              "      <td>2.233102</td>\n",
              "      <td>12.0</td>\n",
              "    </tr>\n",
              "    <tr>\n",
              "      <th>260</th>\n",
              "      <td>119</td>\n",
              "      <td>3.113021</td>\n",
              "      <td>1.630592</td>\n",
              "      <td>14.0</td>\n",
              "    </tr>\n",
              "    <tr>\n",
              "      <th>261</th>\n",
              "      <td>247</td>\n",
              "      <td>3.113021</td>\n",
              "      <td>0.096826</td>\n",
              "      <td>14.0</td>\n",
              "    </tr>\n",
              "  </tbody>\n",
              "</table>\n",
              "<p>262 rows × 4 columns</p>\n",
              "</div>"
            ],
            "text/plain": [
              "     index         0         1     y\n",
              "0      198 -1.544940 -1.336140  26.0\n",
              "1      232 -1.492895 -1.164321  43.1\n",
              "2      221 -1.492895 -0.763412  43.4\n",
              "3      165 -1.388807 -1.549195  31.0\n",
              "4      261 -1.388807 -0.998230  44.0\n",
              "..     ...       ...       ...   ...\n",
              "257    201  2.722689  1.581338  11.0\n",
              "258    169  2.852800  1.501156  14.0\n",
              "259    230  3.113021  2.233102  12.0\n",
              "260    119  3.113021  1.630592  14.0\n",
              "261    247  3.113021  0.096826  14.0\n",
              "\n",
              "[262 rows x 4 columns]"
            ]
          },
          "execution_count": 131,
          "metadata": {},
          "output_type": "execute_result"
        }
      ],
      "source": [
        "X_train_scaled_df"
      ]
    },
    {
      "cell_type": "code",
      "execution_count": 132,
      "metadata": {},
      "outputs": [],
      "source": [
        "df_graph_x = X_train_scaled_df[0].values.reshape(262,1)\n",
        "df_graph_y = X_train_scaled_df['y']"
      ]
    },
    {
      "cell_type": "code",
      "execution_count": 133,
      "metadata": {},
      "outputs": [
        {
          "data": {
            "text/plain": [
              "(array([[-1.54493971],\n",
              "        [-1.49289546],\n",
              "        [-1.49289546],\n",
              "        [-1.38880694],\n",
              "        [-1.38880694],\n",
              "        [-1.36278482],\n",
              "        [-1.36278482],\n",
              "        [-1.33676269],\n",
              "        [-1.23267417],\n",
              "        [-1.23267417],\n",
              "        [-1.18062992],\n",
              "        [-1.18062992],\n",
              "        [-1.12858566],\n",
              "        [-1.10256353],\n",
              "        [-1.10256353],\n",
              "        [-1.05051928],\n",
              "        [-1.05051928],\n",
              "        [-1.05051928],\n",
              "        [-1.05051928],\n",
              "        [-1.05051928],\n",
              "        [-1.05051928],\n",
              "        [-1.02449715],\n",
              "        [-0.99847502],\n",
              "        [-0.99847502],\n",
              "        [-0.99847502],\n",
              "        [-0.99847502],\n",
              "        [-0.99847502],\n",
              "        [-0.99847502],\n",
              "        [-0.99847502],\n",
              "        [-0.99847502],\n",
              "        [-0.97245289],\n",
              "        [-0.97245289],\n",
              "        [-0.97245289],\n",
              "        [-0.97245289],\n",
              "        [-0.94643076],\n",
              "        [-0.94643076],\n",
              "        [-0.92040864],\n",
              "        [-0.92040864],\n",
              "        [-0.92040864],\n",
              "        [-0.92040864],\n",
              "        [-0.92040864],\n",
              "        [-0.92040864],\n",
              "        [-0.92040864],\n",
              "        [-0.92040864],\n",
              "        [-0.89438651],\n",
              "        [-0.89438651],\n",
              "        [-0.89438651],\n",
              "        [-0.89438651],\n",
              "        [-0.86836438],\n",
              "        [-0.86836438],\n",
              "        [-0.86836438],\n",
              "        [-0.86836438],\n",
              "        [-0.81632012],\n",
              "        [-0.81632012],\n",
              "        [-0.79029799],\n",
              "        [-0.79029799],\n",
              "        [-0.79029799],\n",
              "        [-0.79029799],\n",
              "        [-0.79029799],\n",
              "        [-0.79029799],\n",
              "        [-0.79029799],\n",
              "        [-0.79029799],\n",
              "        [-0.79029799],\n",
              "        [-0.76427587],\n",
              "        [-0.76427587],\n",
              "        [-0.76427587],\n",
              "        [-0.76427587],\n",
              "        [-0.71223161],\n",
              "        [-0.71223161],\n",
              "        [-0.71223161],\n",
              "        [-0.71223161],\n",
              "        [-0.71223161],\n",
              "        [-0.71223161],\n",
              "        [-0.68620948],\n",
              "        [-0.66018735],\n",
              "        [-0.66018735],\n",
              "        [-0.66018735],\n",
              "        [-0.66018735],\n",
              "        [-0.66018735],\n",
              "        [-0.66018735],\n",
              "        [-0.63416522],\n",
              "        [-0.58212097],\n",
              "        [-0.58212097],\n",
              "        [-0.55609884],\n",
              "        [-0.55609884],\n",
              "        [-0.55609884],\n",
              "        [-0.55609884],\n",
              "        [-0.53007671],\n",
              "        [-0.53007671],\n",
              "        [-0.53007671],\n",
              "        [-0.53007671],\n",
              "        [-0.50405458],\n",
              "        [-0.50405458],\n",
              "        [-0.50405458],\n",
              "        [-0.50405458],\n",
              "        [-0.50405458],\n",
              "        [-0.47803246],\n",
              "        [-0.45201033],\n",
              "        [-0.45201033],\n",
              "        [-0.45201033],\n",
              "        [-0.45201033],\n",
              "        [-0.45201033],\n",
              "        [-0.45201033],\n",
              "        [-0.45201033],\n",
              "        [-0.45201033],\n",
              "        [-0.45201033],\n",
              "        [-0.45201033],\n",
              "        [-0.4259882 ],\n",
              "        [-0.39996607],\n",
              "        [-0.39996607],\n",
              "        [-0.39996607],\n",
              "        [-0.39996607],\n",
              "        [-0.39996607],\n",
              "        [-0.39996607],\n",
              "        [-0.39996607],\n",
              "        [-0.39996607],\n",
              "        [-0.39996607],\n",
              "        [-0.39996607],\n",
              "        [-0.39996607],\n",
              "        [-0.39996607],\n",
              "        [-0.39996607],\n",
              "        [-0.39996607],\n",
              "        [-0.39996607],\n",
              "        [-0.34792181],\n",
              "        [-0.34792181],\n",
              "        [-0.34792181],\n",
              "        [-0.34792181],\n",
              "        [-0.29587756],\n",
              "        [-0.26985543],\n",
              "        [-0.26985543],\n",
              "        [-0.26985543],\n",
              "        [-0.26985543],\n",
              "        [-0.26985543],\n",
              "        [-0.26985543],\n",
              "        [-0.26985543],\n",
              "        [-0.26985543],\n",
              "        [-0.26985543],\n",
              "        [-0.26985543],\n",
              "        [-0.26985543],\n",
              "        [-0.2438333 ],\n",
              "        [-0.2438333 ],\n",
              "        [-0.21781117],\n",
              "        [-0.21781117],\n",
              "        [-0.21781117],\n",
              "        [-0.21781117],\n",
              "        [-0.21781117],\n",
              "        [-0.21781117],\n",
              "        [-0.21781117],\n",
              "        [-0.21781117],\n",
              "        [-0.19178904],\n",
              "        [-0.19178904],\n",
              "        [-0.13974479],\n",
              "        [-0.13974479],\n",
              "        [-0.13974479],\n",
              "        [-0.13974479],\n",
              "        [-0.13974479],\n",
              "        [-0.13974479],\n",
              "        [-0.13974479],\n",
              "        [-0.13974479],\n",
              "        [-0.13974479],\n",
              "        [-0.08770053],\n",
              "        [-0.0616784 ],\n",
              "        [-0.00963415],\n",
              "        [-0.00963415],\n",
              "        [-0.00963415],\n",
              "        [-0.00963415],\n",
              "        [-0.00963415],\n",
              "        [-0.00963415],\n",
              "        [-0.00963415],\n",
              "        [ 0.04241011],\n",
              "        [ 0.12047649],\n",
              "        [ 0.12047649],\n",
              "        [ 0.12047649],\n",
              "        [ 0.12047649],\n",
              "        [ 0.12047649],\n",
              "        [ 0.12047649],\n",
              "        [ 0.12047649],\n",
              "        [ 0.12047649],\n",
              "        [ 0.12047649],\n",
              "        [ 0.12047649],\n",
              "        [ 0.12047649],\n",
              "        [ 0.12047649],\n",
              "        [ 0.17252075],\n",
              "        [ 0.17252075],\n",
              "        [ 0.25058714],\n",
              "        [ 0.25058714],\n",
              "        [ 0.25058714],\n",
              "        [ 0.27660926],\n",
              "        [ 0.38069778],\n",
              "        [ 0.38069778],\n",
              "        [ 0.38069778],\n",
              "        [ 0.43274203],\n",
              "        [ 0.51080842],\n",
              "        [ 0.51080842],\n",
              "        [ 0.61489693],\n",
              "        [ 0.64091906],\n",
              "        [ 0.64091906],\n",
              "        [ 0.64091906],\n",
              "        [ 0.69296332],\n",
              "        [ 0.71898544],\n",
              "        [ 0.7710297 ],\n",
              "        [ 0.84909609],\n",
              "        [ 0.87511821],\n",
              "        [ 0.90114034],\n",
              "        [ 0.90114034],\n",
              "        [ 0.90114034],\n",
              "        [ 0.90114034],\n",
              "        [ 0.9531846 ],\n",
              "        [ 1.03125098],\n",
              "        [ 1.03125098],\n",
              "        [ 1.03125098],\n",
              "        [ 1.03125098],\n",
              "        [ 1.03125098],\n",
              "        [ 1.03125098],\n",
              "        [ 1.03125098],\n",
              "        [ 1.10931737],\n",
              "        [ 1.1353395 ],\n",
              "        [ 1.16136162],\n",
              "        [ 1.16136162],\n",
              "        [ 1.16136162],\n",
              "        [ 1.16136162],\n",
              "        [ 1.16136162],\n",
              "        [ 1.16136162],\n",
              "        [ 1.16136162],\n",
              "        [ 1.16136162],\n",
              "        [ 1.16136162],\n",
              "        [ 1.16136162],\n",
              "        [ 1.16136162],\n",
              "        [ 1.16136162],\n",
              "        [ 1.16136162],\n",
              "        [ 1.16136162],\n",
              "        [ 1.23942801],\n",
              "        [ 1.23942801],\n",
              "        [ 1.29147227],\n",
              "        [ 1.29147227],\n",
              "        [ 1.42158291],\n",
              "        [ 1.42158291],\n",
              "        [ 1.55169355],\n",
              "        [ 1.55169355],\n",
              "        [ 1.6037378 ],\n",
              "        [ 1.68180419],\n",
              "        [ 1.68180419],\n",
              "        [ 1.68180419],\n",
              "        [ 1.81191483],\n",
              "        [ 1.81191483],\n",
              "        [ 1.81191483],\n",
              "        [ 1.94202547],\n",
              "        [ 1.94202547],\n",
              "        [ 1.94202547],\n",
              "        [ 1.94202547],\n",
              "        [ 2.20224675],\n",
              "        [ 2.20224675],\n",
              "        [ 2.28031314],\n",
              "        [ 2.41042378],\n",
              "        [ 2.41042378],\n",
              "        [ 2.46246804],\n",
              "        [ 2.67064506],\n",
              "        [ 2.72268932],\n",
              "        [ 2.85279996],\n",
              "        [ 3.11302124],\n",
              "        [ 3.11302124],\n",
              "        [ 3.11302124]]),\n",
              " 0      26.0\n",
              " 1      43.1\n",
              " 2      43.4\n",
              " 3      31.0\n",
              " 4      44.0\n",
              "        ... \n",
              " 257    11.0\n",
              " 258    14.0\n",
              " 259    12.0\n",
              " 260    14.0\n",
              " 261    14.0\n",
              " Name: y, Length: 262, dtype: float64)"
            ]
          },
          "execution_count": 133,
          "metadata": {},
          "output_type": "execute_result"
        }
      ],
      "source": [
        "df_graph_x, df_graph_y"
      ]
    },
    {
      "cell_type": "code",
      "execution_count": 134,
      "metadata": {},
      "outputs": [
        {
          "data": {
            "text/html": [
              "<div>\n",
              "<style scoped>\n",
              "    .dataframe tbody tr th:only-of-type {\n",
              "        vertical-align: middle;\n",
              "    }\n",
              "\n",
              "    .dataframe tbody tr th {\n",
              "        vertical-align: top;\n",
              "    }\n",
              "\n",
              "    .dataframe thead th {\n",
              "        text-align: right;\n",
              "    }\n",
              "</style>\n",
              "<table border=\"1\" class=\"dataframe\">\n",
              "  <thead>\n",
              "    <tr style=\"text-align: right;\">\n",
              "      <th></th>\n",
              "      <th>index</th>\n",
              "      <th>mpg</th>\n",
              "    </tr>\n",
              "  </thead>\n",
              "  <tbody>\n",
              "    <tr>\n",
              "      <th>0</th>\n",
              "      <td>129</td>\n",
              "      <td>31.0</td>\n",
              "    </tr>\n",
              "    <tr>\n",
              "      <th>1</th>\n",
              "      <td>364</td>\n",
              "      <td>26.6</td>\n",
              "    </tr>\n",
              "    <tr>\n",
              "      <th>2</th>\n",
              "      <td>70</td>\n",
              "      <td>13.0</td>\n",
              "    </tr>\n",
              "    <tr>\n",
              "      <th>3</th>\n",
              "      <td>181</td>\n",
              "      <td>33.0</td>\n",
              "    </tr>\n",
              "    <tr>\n",
              "      <th>4</th>\n",
              "      <td>22</td>\n",
              "      <td>25.0</td>\n",
              "    </tr>\n",
              "    <tr>\n",
              "      <th>...</th>\n",
              "      <td>...</td>\n",
              "      <td>...</td>\n",
              "    </tr>\n",
              "    <tr>\n",
              "      <th>257</th>\n",
              "      <td>2</td>\n",
              "      <td>18.0</td>\n",
              "    </tr>\n",
              "    <tr>\n",
              "      <th>258</th>\n",
              "      <td>104</td>\n",
              "      <td>12.0</td>\n",
              "    </tr>\n",
              "    <tr>\n",
              "      <th>259</th>\n",
              "      <td>159</td>\n",
              "      <td>14.0</td>\n",
              "    </tr>\n",
              "    <tr>\n",
              "      <th>260</th>\n",
              "      <td>180</td>\n",
              "      <td>25.0</td>\n",
              "    </tr>\n",
              "    <tr>\n",
              "      <th>261</th>\n",
              "      <td>394</td>\n",
              "      <td>44.0</td>\n",
              "    </tr>\n",
              "  </tbody>\n",
              "</table>\n",
              "<p>262 rows × 2 columns</p>\n",
              "</div>"
            ],
            "text/plain": [
              "     index   mpg\n",
              "0      129  31.0\n",
              "1      364  26.6\n",
              "2       70  13.0\n",
              "3      181  33.0\n",
              "4       22  25.0\n",
              "..     ...   ...\n",
              "257      2  18.0\n",
              "258    104  12.0\n",
              "259    159  14.0\n",
              "260    180  25.0\n",
              "261    394  44.0\n",
              "\n",
              "[262 rows x 2 columns]"
            ]
          },
          "execution_count": 134,
          "metadata": {},
          "output_type": "execute_result"
        }
      ],
      "source": [
        "y_train"
      ]
    },
    {
      "cell_type": "code",
      "execution_count": 135,
      "metadata": {},
      "outputs": [
        {
          "data": {
            "text/plain": [
              "((262, 2), (262, 2))"
            ]
          },
          "execution_count": 135,
          "metadata": {},
          "output_type": "execute_result"
        }
      ],
      "source": [
        "X_train_scaled.shape, y_train.shape"
      ]
    },
    {
      "cell_type": "code",
      "execution_count": 136,
      "metadata": {
        "colab": {
          "base_uri": "https://localhost:8080/",
          "height": 968
        },
        "id": "PV9nF7eNMAiE",
        "outputId": "9b0c6168-7435-4951-a68e-eeea3c695f46"
      },
      "outputs": [
        {
          "data": {
            "image/png": "[encoded data removed]",
            "text/plain": [
              "<Figure size 1080x720 with 3 Axes>"
            ]
          },
          "metadata": {
            "needs_background": "light"
          },
          "output_type": "display_data"
        }
      ],
      "source": [
        "lw = 2\n",
        "\n",
        "svrs = [rbf_model, linear_model, sigmoid_model]\n",
        "kernel_label = [\"RBF\", \"Linear\", \"Sigmoid\"]\n",
        "model_color = [\"m\", \"c\", \"g\"]\n",
        "\n",
        "fig, axes = plt.subplots(nrows=1, ncols=3, figsize=(15, 10), sharey=True)\n",
        "for ix, svr in enumerate(svrs):\n",
        "    axes[ix].plot(\n",
        "        df_graph_x,\n",
        "        svr.fit(df_graph_x, df_graph_y).predict(df_graph_x),\n",
        "        color=model_color[ix],\n",
        "        lw=lw,\n",
        "        label=\"{} model\".format(kernel_label[ix]),\n",
        "    )\n",
        "    axes[ix].scatter(\n",
        "        X_train_scaled[:,0],\n",
        "        y_train['mpg']\n",
        "    )\n",
        "    # axes[ix].scatter(\n",
        "    #     X_train_scaled[svr.support_],\n",
        "    #     y_train[svr.support_],\n",
        "    #     facecolor=\"none\",\n",
        "    #     edgecolor=model_color[ix],\n",
        "    #     s=50,\n",
        "    #     label=\"{} support vectors\".format(kernel_label[ix]),\n",
        "    # )\n",
        "    # axes[ix].scatter(\n",
        "    #     X_train_scaled[np.setdiff1d(np.arange(len(X_train_scaled)), svr.support_)],\n",
        "    #     y_train[np.setdiff1d(np.arange(len(X_train_scaled)), svr.support_)],\n",
        "    #     facecolor=\"none\",\n",
        "    #     edgecolor=\"k\",\n",
        "    #     s=50,\n",
        "    #     label=\"other training data\",\n",
        "    # )\n",
        "    axes[ix].legend(\n",
        "        loc=\"upper center\",\n",
        "        bbox_to_anchor=(0.5, 1.1),\n",
        "        ncol=1,\n",
        "        fancybox=True,\n",
        "        shadow=True,\n",
        "    )\n",
        "\n",
        "fig.text(0.5, 0.04, \"data\", ha=\"center\", va=\"center\")\n",
        "fig.text(0.06, 0.5, \"target\", ha=\"center\", va=\"center\", rotation=\"vertical\")\n",
        "fig.suptitle(\"Support Vector Regression\", fontsize=14)\n",
        "plt.show()"
      ]
    },
    {
      "cell_type": "code",
      "execution_count": 137,
      "metadata": {},
      "outputs": [
        {
          "data": {
            "text/plain": [
              "((262, 2), (262, 2))"
            ]
          },
          "execution_count": 137,
          "metadata": {},
          "output_type": "execute_result"
        }
      ],
      "source": [
        "X_train.shape,y_train.shape"
      ]
    },
    {
      "cell_type": "code",
      "execution_count": 138,
      "metadata": {},
      "outputs": [
        {
          "data": {
            "text/plain": [
              "((40, 1), (40,))"
            ]
          },
          "execution_count": 138,
          "metadata": {},
          "output_type": "execute_result"
        }
      ],
      "source": [
        "X = np.sort(5 * np.random.rand(40, 1), axis=0)\n",
        "y = np.sin(X).ravel()\n",
        "X.shape,y.shape"
      ]
    },
    {
      "cell_type": "code",
      "execution_count": 139,
      "metadata": {},
      "outputs": [
        {
          "data": {
            "image/png": "[encoded data removed]",
            "text/plain": [
              "<Figure size 1080x720 with 3 Axes>"
            ]
          },
          "metadata": {
            "needs_background": "light"
          },
          "output_type": "display_data"
        }
      ],
      "source": [
        "X = np.sort(5 * np.random.rand(40, 1), axis=0)\n",
        "y = np.sin(X).ravel()\n",
        "\n",
        "# add noise to targets\n",
        "y[::5] += 3 * (0.5 - np.random.rand(8))\n",
        "svr_rbf = SVR(kernel=\"rbf\", C=100, gamma=0.1, epsilon=0.1)\n",
        "svr_lin = SVR(kernel=\"linear\", C=100, gamma=\"auto\")\n",
        "svr_poly = SVR(kernel=\"poly\", C=100, gamma=\"auto\", degree=3, epsilon=0.1, coef0=1)\n",
        "lw = 2\n",
        "\n",
        "svrs = [svr_rbf, svr_lin, svr_poly]\n",
        "kernel_label = [\"RBF\", \"Linear\", \"Polynomial\"]\n",
        "model_color = [\"m\", \"c\", \"g\"]\n",
        "\n",
        "fig, axes = plt.subplots(nrows=1, ncols=3, figsize=(15, 10), sharey=True)\n",
        "for ix, svr in enumerate(svrs):\n",
        "    axes[ix].plot(\n",
        "        X,\n",
        "        svr.fit(X, y).predict(X),\n",
        "        color=model_color[ix],\n",
        "        lw=lw,\n",
        "        label=\"{} model\".format(kernel_label[ix]),\n",
        "    )\n",
        "    axes[ix].scatter(\n",
        "        X[svr.support_],\n",
        "        y[svr.support_],\n",
        "        facecolor=\"none\",\n",
        "        edgecolor=model_color[ix],\n",
        "        s=50,\n",
        "        label=\"{} support vectors\".format(kernel_label[ix]),\n",
        "    )\n",
        "    axes[ix].scatter(\n",
        "        X[np.setdiff1d(np.arange(len(X)), svr.support_)],\n",
        "        y[np.setdiff1d(np.arange(len(X)), svr.support_)],\n",
        "        facecolor=\"none\",\n",
        "        edgecolor=\"k\",\n",
        "        s=50,\n",
        "        label=\"other training data\",\n",
        "    )\n",
        "    axes[ix].legend(\n",
        "        loc=\"upper center\",\n",
        "        bbox_to_anchor=(0.5, 1.1),\n",
        "        ncol=1,\n",
        "        fancybox=True,\n",
        "        shadow=True,\n",
        "    )\n",
        "\n",
        "fig.text(0.5, 0.04, \"data\", ha=\"center\", va=\"center\")\n",
        "fig.text(0.06, 0.5, \"target\", ha=\"center\", va=\"center\", rotation=\"vertical\")\n",
        "fig.suptitle(\"Support Vector Regression\", fontsize=14)\n",
        "plt.show()"
      ]
    },
    {
      "cell_type": "code",
      "execution_count": 13,
      "metadata": {},
      "outputs": [
        {
          "name": "stdout",
          "output_type": "stream",
          "text": [
            "Mean Absolute Error: 2.842\n"
          ]
        },
        {
          "data": {
            "image/png": "[encoded data removed]",
            "text/plain": [
              "<Figure size 432x288 with 1 Axes>"
            ]
          },
          "metadata": {
            "needs_background": "light"
          },
          "output_type": "display_data"
        }
      ],
      "source": [
        "import pandas as pd\n",
        "import numpy as np\n",
        "from sklearn.svm import SVR\n",
        "from sklearn.model_selection import train_test_split\n",
        "from sklearn.metrics import mean_absolute_error\n",
        "from sklearn.pipeline import make_pipeline\n",
        "from sklearn.preprocessing import StandardScaler\n",
        "import matplotlib.pyplot as plt\n",
        "import seaborn as sns\n",
        "from sklearn.model_selection import learning_curve\n",
        "\n",
        "# Charger le jeu de données mpg\n",
        "data = sns.load_dataset('mpg').drop_duplicates().dropna()\n",
        "\n",
        "# Sélectionner les variables explicatives et la variable cible\n",
        "X = data[[\"horsepower\", \"weight\"]]\n",
        "y = data[\"mpg\"]\n",
        "\n",
        "# Diviser les données en un ensemble d'entraînement et un ensemble de test\n",
        "X_train, X_test, y_train, y_test = train_test_split(X, y, test_size=0.2, random_state=42)\n",
        "\n",
        "#Initialize the SVR model\n",
        "model = SVR(kernel='rbf', C=1, gamma='scale')\n",
        "pipeline = make_pipeline(StandardScaler(), model)\n",
        "\n",
        "# Entraîner le modèle sur l'ensemble d'entraînement\n",
        "pipeline.fit(X_train, y_train)\n",
        "\n",
        "# Évaluer le modèle sur l'ensemble de test\n",
        "y_pred = pipeline.predict(X_test)\n",
        "mae = mean_absolute_error(y_test, y_pred)\n",
        "print(f'Mean Absolute Error: {mae:.3f}')\n",
        "\n",
        "# Learning Curve \n",
        "train_sizes, train_scores, test_scores = learning_curve(pipeline, X, y, n_jobs=-1, train_sizes=[100,150,200,250,300])\n",
        "train_scores_mean = np.mean(train_scores, axis=1)\n",
        "train_scores_std = np.std(train_scores, axis=1)\n",
        "test_scores_mean = np.mean(test_scores, axis=1)\n",
        "test_scores_std = np.std(test_scores, axis=1)\n",
        "plt.grid()\n",
        "\n",
        "plt.fill_between(train_sizes, train_scores_mean - train_scores_std,\n",
        "                 train_scores_mean + train_scores_std, alpha=0.1,\n",
        "                 color=\"r\")\n",
        "plt.fill_between(train_sizes, test_scores_mean - test_scores_std,\n",
        "                 test_scores_mean + test_scores_std, alpha=0.1, color=\"g\")\n",
        "plt.plot(train_sizes, train_scores_mean, 'o-',color=\"r\", label=\"Train score\")\n",
        "plt.plot(train_sizes, test_scores_mean, 'o-', color=\"g\",\n",
        "label=\"Cross-validation score\")\n",
        "plt.legend(loc=\"best\")\n",
        "plt.show()\n"
      ]
    },
    {
      "cell_type": "code",
      "execution_count": null,
      "metadata": {},
      "outputs": [],
      "source": []
    }
  ],
  "metadata": {
    "colab": {
      "provenance": []
    },
    "kernelspec": {
      "display_name": "Python 3",
      "language": "python",
      "name": "python3"
    },
    "language_info": {
      "codemirror_mode": {
        "name": "ipython",
        "version": 3
      },
      "file_extension": ".py",
      "mimetype": "text/x-python",
      "name": "python",
      "nbconvert_exporter": "python",
      "pygments_lexer": "ipython3",
      "version": "3.8.12"
    },
    "vscode": {
      "interpreter": {
        "hash": "e588d92b224e11b16adbbadd39936dea13a6488171770263a646fc57f44563d8"
      }
    }
  },
  "nbformat": 4,
  "nbformat_minor": 0
}
