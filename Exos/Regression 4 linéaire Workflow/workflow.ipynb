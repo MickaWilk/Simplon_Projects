{
 "cells": [
  {
   "cell_type": "markdown",
   "id": "94432cce",
   "metadata": {},
   "source": [
    "# Structurer un workflow pour le déployer en production"
   ]
  },
  {
   "cell_type": "markdown",
   "id": "802ac175",
   "metadata": {
    "ExecuteTime": {
     "end_time": "2022-11-28T13:47:05.605167Z",
     "start_time": "2022-11-28T13:47:05.598795Z"
    }
   },
   "source": [
    "<img src=\"../images/workflow.png\" alt=\"image workflow\">"
   ]
  },
  {
   "cell_type": "code",
   "execution_count": null,
   "id": "4b6a5445",
   "metadata": {
    "ExecuteTime": {
     "end_time": "2022-11-29T12:08:53.201993Z",
     "start_time": "2022-11-29T12:08:50.968368Z"
    }
   },
   "outputs": [],
   "source": [
    "import pandas as pd \n",
    "import seaborn as sns\n",
    "from sklearn.model_selection import train_test_split"
   ]
  },
  {
   "cell_type": "code",
   "execution_count": null,
   "id": "f6777662",
   "metadata": {
    "ExecuteTime": {
     "end_time": "2022-11-29T12:08:53.220318Z",
     "start_time": "2022-11-29T12:08:53.204403Z"
    }
   },
   "outputs": [],
   "source": [
    "data = sns.load_dataset('tips')"
   ]
  },
  {
   "cell_type": "code",
   "execution_count": null,
   "id": "a7598e31",
   "metadata": {
    "ExecuteTime": {
     "end_time": "2022-11-29T12:08:53.235976Z",
     "start_time": "2022-11-29T12:08:53.225393Z"
    }
   },
   "outputs": [],
   "source": [
    "data.info()"
   ]
  },
  {
   "cell_type": "code",
   "execution_count": null,
   "id": "f2e9666a",
   "metadata": {
    "ExecuteTime": {
     "end_time": "2022-11-29T12:08:53.255019Z",
     "start_time": "2022-11-29T12:08:53.238013Z"
    }
   },
   "outputs": [],
   "source": [
    "data.head(2)"
   ]
  },
  {
   "cell_type": "code",
   "execution_count": null,
   "id": "cc9a5857",
   "metadata": {
    "ExecuteTime": {
     "end_time": "2022-11-29T12:08:53.260311Z",
     "start_time": "2022-11-29T12:08:53.257038Z"
    },
    "scrolled": true
   },
   "outputs": [],
   "source": [
    "y = data['tip']"
   ]
  },
  {
   "cell_type": "code",
   "execution_count": null,
   "id": "4287f9c0",
   "metadata": {
    "ExecuteTime": {
     "end_time": "2022-11-29T12:08:53.269058Z",
     "start_time": "2022-11-29T12:08:53.263515Z"
    }
   },
   "outputs": [],
   "source": [
    "X = data.drop(columns=['tip'])"
   ]
  },
  {
   "cell_type": "code",
   "execution_count": null,
   "id": "31e733ea",
   "metadata": {
    "ExecuteTime": {
     "end_time": "2022-11-29T12:08:53.276349Z",
     "start_time": "2022-11-29T12:08:53.271720Z"
    }
   },
   "outputs": [],
   "source": [
    "X_train,X_test, y_train, y_test = train_test_split(X, y, test_size=0.3)"
   ]
  },
  {
   "cell_type": "code",
   "execution_count": null,
   "id": "9bd95936",
   "metadata": {
    "ExecuteTime": {
     "end_time": "2022-11-29T12:08:53.334655Z",
     "start_time": "2022-11-29T12:08:53.278166Z"
    }
   },
   "outputs": [],
   "source": [
    "from sklearn.linear_model import LinearRegression\n",
    "lr = LinearRegression()"
   ]
  },
  {
   "cell_type": "markdown",
   "id": "9564bba5",
   "metadata": {},
   "source": [
    "# Iteration 1 - categoric features (get_dummies)"
   ]
  },
  {
   "cell_type": "code",
   "execution_count": null,
   "id": "6ebead9f",
   "metadata": {
    "ExecuteTime": {
     "end_time": "2022-11-29T12:08:53.364803Z",
     "start_time": "2022-11-29T12:08:53.345107Z"
    }
   },
   "outputs": [],
   "source": [
    "X_train"
   ]
  },
  {
   "cell_type": "code",
   "execution_count": null,
   "id": "e5d7f999",
   "metadata": {
    "ExecuteTime": {
     "end_time": "2022-11-29T12:08:53.372175Z",
     "start_time": "2022-11-29T12:08:53.366702Z"
    }
   },
   "outputs": [],
   "source": [
    "y_train"
   ]
  },
  {
   "cell_type": "code",
   "execution_count": null,
   "id": "5eaf2d93",
   "metadata": {
    "ExecuteTime": {
     "end_time": "2022-11-29T12:08:53.377548Z",
     "start_time": "2022-11-29T12:08:53.374171Z"
    }
   },
   "outputs": [],
   "source": [
    "#lr.fit(X_train, y_train)"
   ]
  },
  {
   "cell_type": "code",
   "execution_count": null,
   "id": "5e557cef",
   "metadata": {
    "ExecuteTime": {
     "end_time": "2022-11-29T12:08:53.392632Z",
     "start_time": "2022-11-29T12:08:53.379834Z"
    }
   },
   "outputs": [],
   "source": [
    "X_train.sample(5)"
   ]
  },
  {
   "cell_type": "code",
   "execution_count": null,
   "id": "41db2e91",
   "metadata": {
    "ExecuteTime": {
     "end_time": "2022-11-29T12:08:53.404065Z",
     "start_time": "2022-11-29T12:08:53.394480Z"
    }
   },
   "outputs": [],
   "source": [
    "X_train_dummies = pd.get_dummies(X_train)"
   ]
  },
  {
   "cell_type": "code",
   "execution_count": null,
   "id": "f7ffaa73",
   "metadata": {
    "ExecuteTime": {
     "end_time": "2022-11-29T12:08:53.418099Z",
     "start_time": "2022-11-29T12:08:53.406165Z"
    }
   },
   "outputs": [],
   "source": [
    "X_train_dummies.sample(4)"
   ]
  },
  {
   "cell_type": "code",
   "execution_count": null,
   "id": "c884812a",
   "metadata": {
    "ExecuteTime": {
     "end_time": "2022-11-29T12:08:53.427852Z",
     "start_time": "2022-11-29T12:08:53.420113Z"
    }
   },
   "outputs": [],
   "source": [
    "lr_train = lr.fit(X_train_dummies, y_train)"
   ]
  },
  {
   "cell_type": "code",
   "execution_count": null,
   "id": "57b45fdd",
   "metadata": {
    "ExecuteTime": {
     "end_time": "2022-11-29T12:08:53.438759Z",
     "start_time": "2022-11-29T12:08:53.429874Z"
    }
   },
   "outputs": [],
   "source": [
    "X_test_dummies = pd.get_dummies(X_test)"
   ]
  },
  {
   "cell_type": "code",
   "execution_count": null,
   "id": "2348dc68",
   "metadata": {
    "ExecuteTime": {
     "end_time": "2022-11-29T12:08:53.448473Z",
     "start_time": "2022-11-29T12:08:53.440930Z"
    }
   },
   "outputs": [],
   "source": [
    "lr_train.score(X_test_dummies, y_test)"
   ]
  },
  {
   "cell_type": "markdown",
   "id": "42fa481b",
   "metadata": {},
   "source": [
    "---\n",
    "# Iteration 2 - categoric + numeric features"
   ]
  },
  {
   "cell_type": "code",
   "execution_count": null,
   "id": "cd87e281",
   "metadata": {
    "ExecuteTime": {
     "end_time": "2022-11-29T12:08:53.454853Z",
     "start_time": "2022-11-29T12:08:53.450431Z"
    }
   },
   "outputs": [],
   "source": [
    "X_train_2,X_test_2, y_train_2, y_test_2 = train_test_split(X, y, test_size=0.3)"
   ]
  },
  {
   "cell_type": "code",
   "execution_count": null,
   "id": "f5bba66d",
   "metadata": {
    "ExecuteTime": {
     "end_time": "2022-11-29T12:08:53.722257Z",
     "start_time": "2022-11-29T12:08:53.457727Z"
    }
   },
   "outputs": [],
   "source": [
    "sns.histplot(data=X_train_2[[\"total_bill\"]], kde=True);"
   ]
  },
  {
   "cell_type": "code",
   "execution_count": null,
   "id": "bbf4ab5e",
   "metadata": {
    "ExecuteTime": {
     "end_time": "2022-11-29T12:08:54.015113Z",
     "start_time": "2022-11-29T12:08:53.725088Z"
    }
   },
   "outputs": [],
   "source": [
    "sns.histplot(data=X_train_2[[\"size\"]], kde=True)"
   ]
  },
  {
   "cell_type": "markdown",
   "id": "af841f65",
   "metadata": {},
   "source": [
    "---\n",
    "# Scaler"
   ]
  },
  {
   "cell_type": "markdown",
   "id": "cd04af75",
   "metadata": {},
   "source": [
    "### Numerical features"
   ]
  },
  {
   "cell_type": "code",
   "execution_count": null,
   "id": "52b006e0",
   "metadata": {
    "ExecuteTime": {
     "end_time": "2022-11-29T12:08:54.021797Z",
     "start_time": "2022-11-29T12:08:54.018617Z"
    }
   },
   "outputs": [],
   "source": [
    "from sklearn.preprocessing import MinMaxScaler\n",
    "from sklearn.preprocessing import StandardScaler"
   ]
  },
  {
   "cell_type": "code",
   "execution_count": null,
   "id": "9dafe731",
   "metadata": {
    "ExecuteTime": {
     "end_time": "2022-11-29T12:08:54.034808Z",
     "start_time": "2022-11-29T12:08:54.024521Z"
    }
   },
   "outputs": [],
   "source": [
    "scaler = StandardScaler()\n",
    "scaler.fit(X_train_2[[\"size\",\"total_bill\"]])\n",
    "X_train_2_scaled = scaler.transform(X_train_2[[\"size\",\"total_bill\"]])"
   ]
  },
  {
   "cell_type": "code",
   "execution_count": null,
   "id": "de32a3f4",
   "metadata": {
    "ExecuteTime": {
     "end_time": "2022-11-29T12:08:54.042626Z",
     "start_time": "2022-11-29T12:08:54.037518Z"
    }
   },
   "outputs": [],
   "source": [
    "X_train_2_scaled_df = pd.DataFrame(X_train_2_scaled).rename(columns={0: \"size_scaled\", 1: \"total_bill_scaled\"})"
   ]
  },
  {
   "cell_type": "code",
   "execution_count": null,
   "id": "eba766af",
   "metadata": {},
   "outputs": [],
   "source": [
    "X_train_2.head(20)"
   ]
  },
  {
   "cell_type": "code",
   "execution_count": null,
   "id": "25145a1b",
   "metadata": {
    "ExecuteTime": {
     "end_time": "2022-11-29T12:08:54.063205Z",
     "start_time": "2022-11-29T12:08:54.045194Z"
    },
    "scrolled": false
   },
   "outputs": [],
   "source": [
    "X_train_2_scaled_df"
   ]
  },
  {
   "cell_type": "markdown",
   "id": "3397445c",
   "metadata": {},
   "source": [
    "### Categorical Features"
   ]
  },
  {
   "cell_type": "code",
   "execution_count": null,
   "id": "6b3594bb",
   "metadata": {
    "ExecuteTime": {
     "end_time": "2022-11-29T12:08:54.077552Z",
     "start_time": "2022-11-29T12:08:54.066216Z"
    }
   },
   "outputs": [],
   "source": [
    "X_train_2[[\"sex\",\"smoker\",\"day\",\"time\"]].nunique()"
   ]
  },
  {
   "cell_type": "code",
   "execution_count": null,
   "id": "c5347fb5",
   "metadata": {
    "ExecuteTime": {
     "end_time": "2022-11-29T12:08:54.092380Z",
     "start_time": "2022-11-29T12:08:54.089696Z"
    }
   },
   "outputs": [],
   "source": [
    "from sklearn.preprocessing import OneHotEncoder"
   ]
  },
  {
   "cell_type": "code",
   "execution_count": null,
   "id": "3bb9d065",
   "metadata": {
    "ExecuteTime": {
     "end_time": "2022-11-29T12:08:54.101159Z",
     "start_time": "2022-11-29T12:08:54.096850Z"
    }
   },
   "outputs": [],
   "source": [
    "ohe = OneHotEncoder()"
   ]
  },
  {
   "cell_type": "code",
   "execution_count": null,
   "id": "099d1eff",
   "metadata": {
    "ExecuteTime": {
     "end_time": "2022-11-29T12:08:54.112963Z",
     "start_time": "2022-11-29T12:08:54.104055Z"
    }
   },
   "outputs": [],
   "source": [
    "ohe.fit_transform(X_train_2[[\"sex\",\"smoker\",\"day\",\"time\"]])"
   ]
  },
  {
   "cell_type": "code",
   "execution_count": null,
   "id": "4a902b1b",
   "metadata": {
    "ExecuteTime": {
     "end_time": "2022-11-29T12:08:54.124059Z",
     "start_time": "2022-11-29T12:08:54.115128Z"
    }
   },
   "outputs": [],
   "source": [
    "X_train_2_ohe = ohe.fit_transform(X_train_2[[\"sex\",\"smoker\",\"day\",\"time\"]])"
   ]
  },
  {
   "cell_type": "code",
   "execution_count": null,
   "id": "650f915d",
   "metadata": {
    "ExecuteTime": {
     "end_time": "2022-11-29T12:08:54.130837Z",
     "start_time": "2022-11-29T12:08:54.126671Z"
    }
   },
   "outputs": [],
   "source": [
    "X_train_2_ohe_df = pd.DataFrame.sparse.from_spmatrix(X_train_2_ohe)"
   ]
  },
  {
   "cell_type": "code",
   "execution_count": null,
   "id": "79d532a9",
   "metadata": {
    "ExecuteTime": {
     "end_time": "2022-11-29T12:08:54.155040Z",
     "start_time": "2022-11-29T12:08:54.132918Z"
    }
   },
   "outputs": [],
   "source": [
    "X_train_2_ohe_df.head(2)"
   ]
  },
  {
   "cell_type": "code",
   "execution_count": null,
   "id": "26355e34",
   "metadata": {
    "ExecuteTime": {
     "end_time": "2022-11-29T12:08:54.160783Z",
     "start_time": "2022-11-29T12:08:54.156773Z"
    }
   },
   "outputs": [],
   "source": [
    "X_train_2_prep_df = pd.concat([X_train_2_ohe_df, X_train_2_scaled_df], axis=1)"
   ]
  },
  {
   "cell_type": "code",
   "execution_count": null,
   "id": "54fb6721",
   "metadata": {
    "ExecuteTime": {
     "end_time": "2022-11-29T12:08:54.211940Z",
     "start_time": "2022-11-29T12:08:54.164213Z"
    }
   },
   "outputs": [],
   "source": [
    "X_train_2_prep_df"
   ]
  },
  {
   "cell_type": "code",
   "execution_count": null,
   "id": "c1cd7f3c",
   "metadata": {
    "ExecuteTime": {
     "end_time": "2022-11-29T12:08:54.216872Z",
     "start_time": "2022-11-29T12:08:54.214015Z"
    }
   },
   "outputs": [],
   "source": [
    "lr_2 = LinearRegression()"
   ]
  },
  {
   "cell_type": "code",
   "execution_count": null,
   "id": "ad2b7c7c",
   "metadata": {
    "ExecuteTime": {
     "end_time": "2022-11-29T12:08:54.229938Z",
     "start_time": "2022-11-29T12:08:54.219090Z"
    }
   },
   "outputs": [],
   "source": [
    "lr_2.fit(X_train_2_prep_df,y_train_2)"
   ]
  },
  {
   "cell_type": "code",
   "execution_count": null,
   "id": "063b12d3",
   "metadata": {
    "ExecuteTime": {
     "end_time": "2022-11-29T12:08:54.235436Z",
     "start_time": "2022-11-29T12:08:54.232410Z"
    }
   },
   "outputs": [],
   "source": [
    "#===> Il faut scalé le X_test_2_prep_df. Avec la même methodologie que le X_train_2, sans faire de dataLeakeage. \n",
    "# ==> Creéer les methodes appropriées pour réutiliser la logique.\n",
    "X_test_2_scaled = scaler.transform(X_test_2[[\"size\",\"total_bill\"]])\n",
    "X_test_2_scaled_df = pd.DataFrame(X_test_2_scaled).rename(columns={0: \"size_scaled\", 1: \"total_bill_scaled\"})\n",
    "X_test_2_ohe = ohe.fit(X_train_2[[\"sex\",\"smoker\",\"day\",\"time\"]]).transform(X_test_2[[\"sex\",\"smoker\",\"day\",\"time\"]])\n",
    "X_test_2_ohe_df = pd.DataFrame.sparse.from_spmatrix(X_test_2_ohe)\n",
    "X_test_2_ohe_df.head(2)\n",
    "X_test_2_prep_df = pd.concat([X_test_2_ohe_df, X_test_2_scaled_df], axis=1)\n",
    "X_test_2_prep_df"
   ]
  },
  {
   "cell_type": "code",
   "execution_count": null,
   "id": "47777422",
   "metadata": {
    "ExecuteTime": {
     "end_time": "2022-11-29T12:08:54.240293Z",
     "start_time": "2022-11-29T12:08:54.237477Z"
    },
    "scrolled": true
   },
   "outputs": [],
   "source": [
    "lr_2.score(X_test_2_prep_df, y_test_2)"
   ]
  },
  {
   "cell_type": "code",
   "execution_count": null,
   "id": "30099a3a",
   "metadata": {},
   "outputs": [],
   "source": [
    "y_pred = lr_2.predict(X_test_2_prep_df)"
   ]
  },
  {
   "cell_type": "code",
   "execution_count": null,
   "id": "5e11fa4a",
   "metadata": {},
   "outputs": [],
   "source": [
    "import matplotlib.pyplot as plt\n",
    "import numpy as np\n",
    "pd.get_dummies(X_train_2['sex'])"
   ]
  },
  {
   "cell_type": "code",
   "execution_count": null,
   "id": "29665420",
   "metadata": {},
   "outputs": [],
   "source": [
    "# Afficher un nuage de point qui révéle les informations suivantes : y_true vs y_predict en fonction de total_bill\n",
    "plt.figure()\n",
    "plt.scatter(X_test_2['total_bill'], y_test_2, label='y_test', s=np.exp(X_test_2['size']), c='r')\n",
    "plt.scatter(X_test_2['total_bill'], y_pred, label='y_pred', s=np.exp(X_test_2['size']), c=pd.get_dummies(X_test_2['sex'])['Female'])\n",
    "sns.regplot(X_test_2['total_bill'], y_test_2)\n",
    "plt.legend()"
   ]
  },
  {
   "cell_type": "code",
   "execution_count": null,
   "id": "4c52195b",
   "metadata": {
    "ExecuteTime": {
     "end_time": "2022-11-29T12:08:54.245008Z",
     "start_time": "2022-11-29T12:08:54.242650Z"
    }
   },
   "outputs": [],
   "source": [
    "# Re-tester avec un StandardScaler => https://scikit-learn.org/stable/modules/generated/sklearn.preprocessing.StandardScaler.html\n"
   ]
  },
  {
   "cell_type": "code",
   "execution_count": 340,
   "id": "cc77c5d7",
   "metadata": {
    "ExecuteTime": {
     "end_time": "2022-11-29T12:08:54.250084Z",
     "start_time": "2022-11-29T12:08:54.247217Z"
    }
   },
   "outputs": [
    {
     "name": "stderr",
     "output_type": "stream",
     "text": [
      "/root/.pyenv/versions/simplon/lib/python3.8/site-packages/seaborn/_decorators.py:36: FutureWarning: Pass the following variables as keyword args: x, y. From version 0.12, the only valid positional argument will be `data`, and passing other arguments without an explicit keyword will result in an error or misinterpretation.\n",
      "  warnings.warn(\n"
     ]
    },
    {
     "data": {
      "text/plain": [
       "<AxesSubplot:ylabel='tip'>"
      ]
     },
     "execution_count": 340,
     "metadata": {},
     "output_type": "execute_result"
    },
    {
     "data": {
      "image/png": "[encoded data removed]",
      "text/plain": [
       "<Figure size 432x288 with 1 Axes>"
      ]
     },
     "metadata": {
      "needs_background": "light"
     },
     "output_type": "display_data"
    }
   ],
   "source": [
    "# Afficher l'hétéroscédasticité ou l'homoscédasticité des erreurs.\n",
    "plt.plot(range(7),range(7))\n",
    "sns.regplot(y_pred,y_test_2)"
   ]
  },
  {
   "cell_type": "code",
   "execution_count": 341,
   "id": "537c54a5",
   "metadata": {},
   "outputs": [
    {
     "data": {
      "text/plain": [
       "(array([ 4., 15., 19., 16.,  9.,  6.,  1.,  2.,  1.,  1.]),\n",
       " array([0.44453982, 0.65382706, 0.86311429, 1.07240152, 1.28168876,\n",
       "        1.49097599, 1.70026322, 1.90955045, 2.11883769, 2.32812492,\n",
       "        2.53741215]),\n",
       " <BarContainer object of 10 artists>)"
      ]
     },
     "execution_count": 341,
     "metadata": {},
     "output_type": "execute_result"
    },
    {
     "data": {
      "image/png": "[encoded data removed]",
      "text/plain": [
       "<Figure size 432x288 with 1 Axes>"
      ]
     },
     "metadata": {
      "needs_background": "light"
     },
     "output_type": "display_data"
    }
   ],
   "source": [
    "# Afficher la distribution des erreurs. (Normalité des erreurs).\n",
    "from scipy.stats import norm\n",
    "norm(y_pred, y_test_2)\n",
    "plt.hist(y_pred/y_test_2)"
   ]
  },
  {
   "cell_type": "code",
   "execution_count": null,
   "id": "208753ee",
   "metadata": {},
   "outputs": [],
   "source": [
    "# Créer un package à l'aide https://pypi.org/project/setuptools/"
   ]
  }
 ],
 "metadata": {
  "hide_input": false,
  "kernelspec": {
   "display_name": "Python 3.8.12 64-bit ('shims')",
   "language": "python",
   "name": "python3"
  },
  "language_info": {
   "codemirror_mode": {
    "name": "ipython",
    "version": 3
   },
   "file_extension": ".py",
   "mimetype": "text/x-python",
   "name": "python",
   "nbconvert_exporter": "python",
   "pygments_lexer": "ipython3",
   "version": "3.8.12"
  },
  "toc": {
   "base_numbering": 1,
   "nav_menu": {},
   "number_sections": true,
   "sideBar": true,
   "skip_h1_title": false,
   "title_cell": "Table of Contents",
   "title_sidebar": "Contents",
   "toc_cell": false,
   "toc_position": {},
   "toc_section_display": true,
   "toc_window_display": true
  },
  "vscode": {
   "interpreter": {
    "hash": "e588d92b224e11b16adbbadd39936dea13a6488171770263a646fc57f44563d8"
   }
  }
 },
 "nbformat": 4,
 "nbformat_minor": 5
}
