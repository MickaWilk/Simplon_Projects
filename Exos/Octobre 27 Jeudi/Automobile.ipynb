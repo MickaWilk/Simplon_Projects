{
 "cells": [
  {
   "cell_type": "code",
   "execution_count": 305,
   "metadata": {},
   "outputs": [],
   "source": [
    "import numpy as np\n",
    "import pandas as pd"
   ]
  },
  {
   "cell_type": "code",
   "execution_count": 306,
   "metadata": {},
   "outputs": [],
   "source": [
    "df = pd.read_csv(\"Automobiles.csv\", index_col=\"id\")"
   ]
  },
  {
   "cell_type": "code",
   "execution_count": 307,
   "metadata": {},
   "outputs": [
    {
     "data": {
      "text/plain": [
       "company                         100.0\n",
       "color                            93.2\n",
       "wheel-base-style-circum-diam     93.2\n",
       "length                           97.9\n",
       "nbSeats                         100.0\n",
       "num-of-cylinders                100.0\n",
       "horsepower                      100.0\n",
       "average-mileage                   7.4\n",
       "price                            95.6\n",
       "dtype: float64"
      ]
     },
     "execution_count": 307,
     "metadata": {},
     "output_type": "execute_result"
    }
   ],
   "source": [
    "df.count() / df.shape[0] * 100"
   ]
  },
  {
   "cell_type": "code",
   "execution_count": 308,
   "metadata": {},
   "outputs": [],
   "source": [
    "df.drop([\"average-mileage\", \"nbSeats\", \"wheel-base-style-circum-diam\"], axis=1, inplace=True)"
   ]
  },
  {
   "cell_type": "code",
   "execution_count": 309,
   "metadata": {},
   "outputs": [
    {
     "data": {
      "text/plain": [
       "color-red       265\n",
       "color-blac      231\n",
       "color-yellow    218\n",
       "color-blue      218\n",
       "Name: color, dtype: int64"
      ]
     },
     "execution_count": 309,
     "metadata": {},
     "output_type": "execute_result"
    }
   ],
   "source": [
    "df[\"color\"].value_counts()"
   ]
  },
  {
   "cell_type": "code",
   "execution_count": 310,
   "metadata": {},
   "outputs": [],
   "source": [
    "df[\"color\"].fillna(\"Unknown\", inplace=True)\n",
    "df.dropna(inplace=True)"
   ]
  },
  {
   "cell_type": "code",
   "execution_count": 311,
   "metadata": {},
   "outputs": [
    {
     "data": {
      "text/plain": [
       "company             0\n",
       "color               0\n",
       "length              0\n",
       "num-of-cylinders    0\n",
       "horsepower          0\n",
       "price               0\n",
       "dtype: int64"
      ]
     },
     "execution_count": 311,
     "metadata": {},
     "output_type": "execute_result"
    }
   ],
   "source": [
    "df.isnull().sum()"
   ]
  },
  {
   "cell_type": "code",
   "execution_count": 312,
   "metadata": {},
   "outputs": [],
   "source": [
    "# COLOR\n",
    "df[\"color\"] = df[\"color\"].apply(lambda x: x[6:] if \"color-\" in x else x )\n",
    "df[\"color\"] = df[\"color\"].apply(lambda x: \"black\" if \"blac\" in x else x )"
   ]
  },
  {
   "cell_type": "code",
   "execution_count": 313,
   "metadata": {},
   "outputs": [],
   "source": [
    "# Wheel_Base\n",
    "df[\"length\"] = df[\"length\"].apply(lambda x: round(x, 2))"
   ]
  },
  {
   "cell_type": "code",
   "execution_count": 314,
   "metadata": {},
   "outputs": [],
   "source": [
    "# Cylinders\n",
    "\n",
    "df.rename({\"num-of-cylinders\" : \"cylinders\", \"length\": \"wheel_base\"}, inplace=True, axis=1)"
   ]
  },
  {
   "cell_type": "code",
   "execution_count": 315,
   "metadata": {},
   "outputs": [
    {
     "data": {
      "text/html": [
       "<div>\n",
       "<style scoped>\n",
       "    .dataframe tbody tr th:only-of-type {\n",
       "        vertical-align: middle;\n",
       "    }\n",
       "\n",
       "    .dataframe tbody tr th {\n",
       "        vertical-align: top;\n",
       "    }\n",
       "\n",
       "    .dataframe thead th {\n",
       "        text-align: right;\n",
       "    }\n",
       "</style>\n",
       "<table border=\"1\" class=\"dataframe\">\n",
       "  <thead>\n",
       "    <tr style=\"text-align: right;\">\n",
       "      <th></th>\n",
       "      <th>company</th>\n",
       "      <th>color</th>\n",
       "      <th>wheel_base</th>\n",
       "      <th>cylinders</th>\n",
       "      <th>horsepower</th>\n",
       "      <th>price</th>\n",
       "    </tr>\n",
       "    <tr>\n",
       "      <th>id</th>\n",
       "      <th></th>\n",
       "      <th></th>\n",
       "      <th></th>\n",
       "      <th></th>\n",
       "      <th></th>\n",
       "      <th></th>\n",
       "    </tr>\n",
       "  </thead>\n",
       "  <tbody>\n",
       "    <tr>\n",
       "      <th>1</th>\n",
       "      <td>Pontiac</td>\n",
       "      <td>Unknown</td>\n",
       "      <td>153.63</td>\n",
       "      <td>twelve</td>\n",
       "      <td>162</td>\n",
       "      <td>19534.0</td>\n",
       "    </tr>\n",
       "    <tr>\n",
       "      <th>2</th>\n",
       "      <td>MINI</td>\n",
       "      <td>black</td>\n",
       "      <td>159.98</td>\n",
       "      <td>three</td>\n",
       "      <td>76</td>\n",
       "      <td>35105.0</td>\n",
       "    </tr>\n",
       "    <tr>\n",
       "      <th>3</th>\n",
       "      <td>Scion</td>\n",
       "      <td>red</td>\n",
       "      <td>207.68</td>\n",
       "      <td>five5</td>\n",
       "      <td>83</td>\n",
       "      <td>42705.0</td>\n",
       "    </tr>\n",
       "    <tr>\n",
       "      <th>4</th>\n",
       "      <td>Geo</td>\n",
       "      <td>black</td>\n",
       "      <td>142.11</td>\n",
       "      <td>twelve</td>\n",
       "      <td>100</td>\n",
       "      <td>17601.0</td>\n",
       "    </tr>\n",
       "    <tr>\n",
       "      <th>5</th>\n",
       "      <td>Lexus</td>\n",
       "      <td>Unknown</td>\n",
       "      <td>166.50</td>\n",
       "      <td>six6</td>\n",
       "      <td>93</td>\n",
       "      <td>39170.0</td>\n",
       "    </tr>\n",
       "    <tr>\n",
       "      <th>...</th>\n",
       "      <td>...</td>\n",
       "      <td>...</td>\n",
       "      <td>...</td>\n",
       "      <td>...</td>\n",
       "      <td>...</td>\n",
       "      <td>...</td>\n",
       "    </tr>\n",
       "    <tr>\n",
       "      <th>996</th>\n",
       "      <td>Suzuki</td>\n",
       "      <td>black</td>\n",
       "      <td>140.05</td>\n",
       "      <td>five5</td>\n",
       "      <td>50</td>\n",
       "      <td>32948.0</td>\n",
       "    </tr>\n",
       "    <tr>\n",
       "      <th>997</th>\n",
       "      <td>Mitsubishi</td>\n",
       "      <td>black</td>\n",
       "      <td>151.92</td>\n",
       "      <td>five5</td>\n",
       "      <td>177</td>\n",
       "      <td>37206.0</td>\n",
       "    </tr>\n",
       "    <tr>\n",
       "      <th>998</th>\n",
       "      <td>Mitsubishi</td>\n",
       "      <td>blue</td>\n",
       "      <td>164.73</td>\n",
       "      <td>six6</td>\n",
       "      <td>182</td>\n",
       "      <td>23850.0</td>\n",
       "    </tr>\n",
       "    <tr>\n",
       "      <th>999</th>\n",
       "      <td>Toyota</td>\n",
       "      <td>red</td>\n",
       "      <td>203.82</td>\n",
       "      <td>eight</td>\n",
       "      <td>146</td>\n",
       "      <td>23414.0</td>\n",
       "    </tr>\n",
       "    <tr>\n",
       "      <th>1000</th>\n",
       "      <td>Mitsubishi</td>\n",
       "      <td>blue</td>\n",
       "      <td>197.76</td>\n",
       "      <td>twelve</td>\n",
       "      <td>238</td>\n",
       "      <td>16554.0</td>\n",
       "    </tr>\n",
       "  </tbody>\n",
       "</table>\n",
       "<p>936 rows × 6 columns</p>\n",
       "</div>"
      ],
      "text/plain": [
       "         company    color  wheel_base cylinders  horsepower    price\n",
       "id                                                                  \n",
       "1        Pontiac  Unknown      153.63    twelve         162  19534.0\n",
       "2           MINI    black      159.98     three          76  35105.0\n",
       "3          Scion      red      207.68     five5          83  42705.0\n",
       "4            Geo    black      142.11    twelve         100  17601.0\n",
       "5          Lexus  Unknown      166.50      six6          93  39170.0\n",
       "...          ...      ...         ...       ...         ...      ...\n",
       "996       Suzuki    black      140.05     five5          50  32948.0\n",
       "997   Mitsubishi    black      151.92     five5         177  37206.0\n",
       "998   Mitsubishi     blue      164.73      six6         182  23850.0\n",
       "999       Toyota      red      203.82     eight         146  23414.0\n",
       "1000  Mitsubishi     blue      197.76    twelve         238  16554.0\n",
       "\n",
       "[936 rows x 6 columns]"
      ]
     },
     "execution_count": 315,
     "metadata": {},
     "output_type": "execute_result"
    }
   ],
   "source": [
    "df"
   ]
  }
 ],
 "metadata": {
  "kernelspec": {
   "display_name": "Python 3.8.12 64-bit ('shims')",
   "language": "python",
   "name": "python3"
  },
  "language_info": {
   "codemirror_mode": {
    "name": "ipython",
    "version": 3
   },
   "file_extension": ".py",
   "mimetype": "text/x-python",
   "name": "python",
   "nbconvert_exporter": "python",
   "pygments_lexer": "ipython3",
   "version": "3.8.12"
  },
  "orig_nbformat": 4,
  "vscode": {
   "interpreter": {
    "hash": "e588d92b224e11b16adbbadd39936dea13a6488171770263a646fc57f44563d8"
   }
  }
 },
 "nbformat": 4,
 "nbformat_minor": 2
}
