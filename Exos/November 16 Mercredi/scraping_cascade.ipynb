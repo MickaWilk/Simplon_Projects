{
 "cells": [
  {
   "cell_type": "code",
   "execution_count": 7,
   "metadata": {},
   "outputs": [],
   "source": [
    "# import necessary libraries\n",
    "from bs4 import BeautifulSoup as bs\n",
    "import requests"
   ]
  },
  {
   "cell_type": "code",
   "execution_count": 8,
   "metadata": {},
   "outputs": [],
   "source": [
    "# function to extract html document from given url\n",
    "def getHTMLdocument(url):\n",
    "    response = requests.get(url)\n",
    "    return response.text\n",
    "\n",
    "url_to_scrape = \"https://www.charlesbordet.com/fr/blog/\"\n",
    "html_document = getHTMLdocument(url_to_scrape)\n",
    "soup = bs(html_document, 'html.parser')\n"
   ]
  },
  {
   "cell_type": "code",
   "execution_count": 9,
   "metadata": {},
   "outputs": [],
   "source": [
    "# find all the anchor tags with \"href\"\n",
    "# attribute starting with \"https://\"\n",
    "# for link in soup.find_all('a', attrs={'href': re.compile(\"/fr/\")}):\n",
    "links = []\n",
    "for h2 in soup.find_all(\"h2\", {\"class\": \"archive__item-title\"}):\n",
    "    for a in h2.find_all(\"a\"):\n",
    "        url = \"https://www.charlesbordet.com\" + a['href']\n",
    "        links.append(url)"
   ]
  },
  {
   "cell_type": "code",
   "execution_count": 10,
   "metadata": {},
   "outputs": [],
   "source": [
    "#Get summaries\n",
    "summaries = []\n",
    "for url in links:\n",
    "    soup = bs(getHTMLdocument(url), 'html.parser')\n",
    "    #Get Summary\n",
    "    summary = []\n",
    "    for index, ul in enumerate(soup.find('ul', {\"class\": \"toc__menu\"})):\n",
    "        # print ('\\n', ul.a.text)\n",
    "        ret = []\n",
    "        ret.append(ul.a.text)\n",
    "        for li in (ul.findChildren('li')):\n",
    "            ret.append(li.a.text)\n",
    "        if ret: summary.append(ret)\n",
    "    if summary: summaries.append(summary)"
   ]
  }
 ],
 "metadata": {
  "kernelspec": {
   "display_name": "Python 3.8.12 64-bit ('shims')",
   "language": "python",
   "name": "python3"
  },
  "language_info": {
   "codemirror_mode": {
    "name": "ipython",
    "version": 3
   },
   "file_extension": ".py",
   "mimetype": "text/x-python",
   "name": "python",
   "nbconvert_exporter": "python",
   "pygments_lexer": "ipython3",
   "version": "3.8.12"
  },
  "orig_nbformat": 4,
  "vscode": {
   "interpreter": {
    "hash": "e588d92b224e11b16adbbadd39936dea13a6488171770263a646fc57f44563d8"
   }
  }
 },
 "nbformat": 4,
 "nbformat_minor": 2
}
