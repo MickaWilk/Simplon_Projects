{
 "cells": [
  {
   "cell_type": "code",
   "execution_count": 1,
   "metadata": {},
   "outputs": [],
   "source": [
    "import csv\n",
    "\n",
    "class BeverageDistributor:\n",
    "    def __init__(self, num_cans=100, cash=11.50):\n",
    "        self.num_cans = num_cans\n",
    "        self.cash = cash\n",
    "        self.can_price = 1.50\n",
    "\n",
    "    def buy_can(self):\n",
    "        if self.num_cans == 0:\n",
    "            print(\"Sorry, we're out of cans.\")\n",
    "            return\n",
    "        self.num_cans -= 1\n",
    "        self.cash += self.can_price\n",
    "        print(\"Here is your can. Enjoy!\")\n",
    "\n",
    "    def give_change(self, amount_paid):\n",
    "        change = amount_paid - self.can_price\n",
    "        if change < 0:\n",
    "            print(\"You didn't pay enough. Please pay the full price of the can.\")\n",
    "            return\n",
    "        self.cash += amount_paid\n",
    "        print(f\"Your change is {change:.2f} €.\")\n",
    "\n",
    "    def show_stock_and_cash(self, password):\n",
    "        if password != \"technician\":\n",
    "            print(\"Invalid password.\")\n",
    "            return\n",
    "        print(f\"Number of cans: {self.num_cans}\")\n",
    "        print(f\"Cash: {self.cash:.2f} €\")\n",
    "\n",
    "    def add_cans(self, num_cans, password):\n",
    "        if password != \"technician\":\n",
    "            print(\"Invalid password.\")\n",
    "            return\n",
    "        self.num_cans += num_cans\n",
    "        print(\"Cans added successfully.\")\n",
    "\n",
    "    def empty_cash(self, password):\n",
    "        if password != \"technician\":\n",
    "            print(\"Invalid password.\")\n",
    "            return\n",
    "        cash = self.cash\n",
    "        self.cash = 0\n",
    "        print(f\"Cash emptied successfully: {cash:.2f} €\")\n",
    "\n",
    "    def save_data(self):\n",
    "        with open(\"distributor_data.csv\", \"w\") as f:\n",
    "            writer = csv.writer(f)\n",
    "            writer.writerow([self.num_cans, self.cash])\n",
    "\n",
    "    @classmethod\n",
    "    def from_csv(cls, file_name):\n",
    "        with open(file_name, \"r\") as f:\n",
    "            reader = csv.reader(f)\n",
    "            num_cans, cash = map(float, next(reader))\n",
    "            return cls(num_cans, cash)\n",
    "\n"
   ]
  },
  {
   "cell_type": "code",
   "execution_count": null,
   "metadata": {},
   "outputs": [],
   "source": []
  }
 ],
 "metadata": {
  "kernelspec": {
   "display_name": "Python 3",
   "language": "python",
   "name": "python3"
  },
  "language_info": {
   "codemirror_mode": {
    "name": "ipython",
    "version": 3
   },
   "file_extension": ".py",
   "mimetype": "text/x-python",
   "name": "python",
   "nbconvert_exporter": "python",
   "pygments_lexer": "ipython3",
   "version": "3.8.12"
  },
  "orig_nbformat": 4,
  "vscode": {
   "interpreter": {
    "hash": "749f751cef763966b1529d15e0c18224b66ea581f5ab7c7b58a6a7bce47c295e"
   }
  }
 },
 "nbformat": 4,
 "nbformat_minor": 2
}
