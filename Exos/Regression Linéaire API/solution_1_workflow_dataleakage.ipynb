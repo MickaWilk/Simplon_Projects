{
 "cells": [
  {
   "cell_type": "markdown",
   "id": "af841f65",
   "metadata": {},
   "source": [
    "## Scaler"
   ]
  },
  {
   "cell_type": "markdown",
   "id": "cd04af75",
   "metadata": {},
   "source": [
    "### Numerical features & Categorical Features"
   ]
  },
  {
   "cell_type": "code",
   "execution_count": 57,
   "id": "9c9041bd",
   "metadata": {
    "ExecuteTime": {
     "end_time": "2022-12-01T11:00:38.156034Z",
     "start_time": "2022-12-01T11:00:36.055022Z"
    }
   },
   "outputs": [],
   "source": [
    "from sklearn.preprocessing import MinMaxScaler\n",
    "from sklearn.preprocessing import OneHotEncoder\n",
    "from sklearn.linear_model import LinearRegression\n",
    "import pandas as pd \n",
    "import seaborn as sns\n",
    "from sklearn.model_selection import train_test_split\n",
    "\n",
    "\n",
    "def scaler_cat(features_cat, test=None):\n",
    "    ohe = OneHotEncoder(sparse=False)\n",
    "    if test is None:\n",
    "        features_cat_scaled = ohe.fit_transform(features_cat)\n",
    "    else:\n",
    "        ohe.fit(features_cat)\n",
    "        features_cat_scaled = ohe.transform(test)\n",
    "    features_cat_scaled_df = pd.DataFrame(features_cat_scaled)\n",
    "    return features_cat_scaled_df\n",
    "\n",
    "def scaler_num(features_num, test=None):\n",
    "    scaler = MinMaxScaler()\n",
    "    if test is None:\n",
    "        features_num_scaled = scaler.fit_transform(features_num)\n",
    "    else:\n",
    "        scaler.fit(features_num)\n",
    "        features_num_scaled = scaler.transform(test)\n",
    "    features_num_scaled_df = pd.DataFrame(features_num_scaled)\n",
    "    return features_num_scaled_df\n",
    "\n",
    "\n",
    "def scaler_features(features, test=None):\n",
    "    if test is not None:\n",
    "        test_cat = test.select_dtypes(include=['category'])\n",
    "        test_num = test.select_dtypes(include=['float64','int64'])\n",
    "    else:\n",
    "        test_cat = None\n",
    "        test_num = None\n",
    "        \n",
    "    features_cat = features.select_dtypes(include=['category'])\n",
    "    features_cat_scaled_df = scaler_cat(features_cat, test_cat)\n",
    "    \n",
    "    features_num = features.select_dtypes(include=['float64','int64'])\n",
    "    features_num_scaled_df = scaler_num(features_num, test_num)\n",
    "    \n",
    "    features_prep_df = pd.concat([features_cat_scaled_df, features_num_scaled_df], axis=1)\n",
    "    return features_prep_df"
   ]
  },
  {
   "cell_type": "code",
   "execution_count": 58,
   "id": "147f5b0e",
   "metadata": {
    "ExecuteTime": {
     "end_time": "2022-12-01T11:00:38.169336Z",
     "start_time": "2022-12-01T11:00:38.157893Z"
    }
   },
   "outputs": [],
   "source": [
    "data = sns.load_dataset('tips')"
   ]
  },
  {
   "cell_type": "code",
   "execution_count": 59,
   "id": "0fa89d36",
   "metadata": {
    "ExecuteTime": {
     "end_time": "2022-12-01T11:00:38.176446Z",
     "start_time": "2022-12-01T11:00:38.172506Z"
    }
   },
   "outputs": [],
   "source": [
    "y = data['tip']\n",
    "\n",
    "X = data.drop(columns=['tip'])"
   ]
  },
  {
   "cell_type": "code",
   "execution_count": 60,
   "id": "5557efd4",
   "metadata": {
    "ExecuteTime": {
     "end_time": "2022-12-01T11:00:38.184824Z",
     "start_time": "2022-12-01T11:00:38.178649Z"
    }
   },
   "outputs": [],
   "source": [
    "X_train_2,X_test_2, y_train_2, y_test_2 = train_test_split(X, y, test_size=0.3, random_state=60)"
   ]
  },
  {
   "cell_type": "code",
   "execution_count": 61,
   "id": "f761708f",
   "metadata": {
    "ExecuteTime": {
     "end_time": "2022-12-01T11:00:38.202070Z",
     "start_time": "2022-12-01T11:00:38.186884Z"
    }
   },
   "outputs": [],
   "source": [
    "\n",
    "X_train_2_prep_df = scaler_features(X_train_2)\n"
   ]
  },
  {
   "cell_type": "code",
   "execution_count": 62,
   "id": "c1cd7f3c",
   "metadata": {
    "ExecuteTime": {
     "end_time": "2022-12-01T11:00:38.206627Z",
     "start_time": "2022-12-01T11:00:38.204024Z"
    }
   },
   "outputs": [],
   "source": [
    "\n",
    "lg_2 = LinearRegression()\n"
   ]
  },
  {
   "cell_type": "code",
   "execution_count": 63,
   "id": "ad2b7c7c",
   "metadata": {
    "ExecuteTime": {
     "end_time": "2022-12-01T11:00:38.223086Z",
     "start_time": "2022-12-01T11:00:38.209373Z"
    }
   },
   "outputs": [
    {
     "data": {
      "text/plain": [
       "LinearRegression()"
      ]
     },
     "execution_count": 63,
     "metadata": {},
     "output_type": "execute_result"
    }
   ],
   "source": [
    "lg_2.fit(X_train_2_prep_df,y_train_2)"
   ]
  },
  {
   "cell_type": "code",
   "execution_count": 64,
   "id": "d8f6d0ca",
   "metadata": {
    "ExecuteTime": {
     "end_time": "2022-12-01T11:00:38.229471Z",
     "start_time": "2022-12-01T11:00:38.226009Z"
    }
   },
   "outputs": [],
   "source": [
    "from sklearn.model_selection import cross_validate"
   ]
  },
  {
   "cell_type": "code",
   "execution_count": 65,
   "id": "4d55a3cd",
   "metadata": {
    "ExecuteTime": {
     "end_time": "2022-12-01T11:00:38.276426Z",
     "start_time": "2022-12-01T11:00:38.233734Z"
    }
   },
   "outputs": [
    {
     "data": {
      "text/plain": [
       "0.3598759687098184"
      ]
     },
     "execution_count": 65,
     "metadata": {},
     "output_type": "execute_result"
    }
   ],
   "source": [
    "cross_validate(lg_2, X_train_2_prep_df, y_train_2, cv=5)['test_score'].mean()"
   ]
  },
  {
   "cell_type": "markdown",
   "id": "20b0f2d5",
   "metadata": {
    "ExecuteTime": {
     "end_time": "2022-11-28T13:16:01.921314Z",
     "start_time": "2022-11-28T13:16:01.914093Z"
    }
   },
   "source": [
    "<img src=\"../images/cross-validate.png\" alt=\"schema cross validation\"/>"
   ]
  },
  {
   "cell_type": "code",
   "execution_count": 66,
   "id": "15bc1e23",
   "metadata": {},
   "outputs": [
    {
     "data": {
      "text/html": [
       "<div>\n",
       "<style scoped>\n",
       "    .dataframe tbody tr th:only-of-type {\n",
       "        vertical-align: middle;\n",
       "    }\n",
       "\n",
       "    .dataframe tbody tr th {\n",
       "        vertical-align: top;\n",
       "    }\n",
       "\n",
       "    .dataframe thead th {\n",
       "        text-align: right;\n",
       "    }\n",
       "</style>\n",
       "<table border=\"1\" class=\"dataframe\">\n",
       "  <thead>\n",
       "    <tr style=\"text-align: right;\">\n",
       "      <th></th>\n",
       "      <th>total_bill</th>\n",
       "      <th>sex</th>\n",
       "      <th>smoker</th>\n",
       "      <th>day</th>\n",
       "      <th>time</th>\n",
       "      <th>size</th>\n",
       "    </tr>\n",
       "  </thead>\n",
       "  <tbody>\n",
       "    <tr>\n",
       "      <th>132</th>\n",
       "      <td>11.17</td>\n",
       "      <td>Female</td>\n",
       "      <td>No</td>\n",
       "      <td>Thur</td>\n",
       "      <td>Lunch</td>\n",
       "      <td>2</td>\n",
       "    </tr>\n",
       "    <tr>\n",
       "      <th>79</th>\n",
       "      <td>17.29</td>\n",
       "      <td>Male</td>\n",
       "      <td>No</td>\n",
       "      <td>Thur</td>\n",
       "      <td>Lunch</td>\n",
       "      <td>2</td>\n",
       "    </tr>\n",
       "    <tr>\n",
       "      <th>56</th>\n",
       "      <td>38.01</td>\n",
       "      <td>Male</td>\n",
       "      <td>Yes</td>\n",
       "      <td>Sat</td>\n",
       "      <td>Dinner</td>\n",
       "      <td>4</td>\n",
       "    </tr>\n",
       "    <tr>\n",
       "      <th>199</th>\n",
       "      <td>13.51</td>\n",
       "      <td>Male</td>\n",
       "      <td>Yes</td>\n",
       "      <td>Thur</td>\n",
       "      <td>Lunch</td>\n",
       "      <td>2</td>\n",
       "    </tr>\n",
       "    <tr>\n",
       "      <th>23</th>\n",
       "      <td>39.42</td>\n",
       "      <td>Male</td>\n",
       "      <td>No</td>\n",
       "      <td>Sat</td>\n",
       "      <td>Dinner</td>\n",
       "      <td>4</td>\n",
       "    </tr>\n",
       "    <tr>\n",
       "      <th>...</th>\n",
       "      <td>...</td>\n",
       "      <td>...</td>\n",
       "      <td>...</td>\n",
       "      <td>...</td>\n",
       "      <td>...</td>\n",
       "      <td>...</td>\n",
       "    </tr>\n",
       "    <tr>\n",
       "      <th>3</th>\n",
       "      <td>23.68</td>\n",
       "      <td>Male</td>\n",
       "      <td>No</td>\n",
       "      <td>Sun</td>\n",
       "      <td>Dinner</td>\n",
       "      <td>2</td>\n",
       "    </tr>\n",
       "    <tr>\n",
       "      <th>186</th>\n",
       "      <td>20.90</td>\n",
       "      <td>Female</td>\n",
       "      <td>Yes</td>\n",
       "      <td>Sun</td>\n",
       "      <td>Dinner</td>\n",
       "      <td>3</td>\n",
       "    </tr>\n",
       "    <tr>\n",
       "      <th>62</th>\n",
       "      <td>11.02</td>\n",
       "      <td>Male</td>\n",
       "      <td>Yes</td>\n",
       "      <td>Sat</td>\n",
       "      <td>Dinner</td>\n",
       "      <td>2</td>\n",
       "    </tr>\n",
       "    <tr>\n",
       "      <th>129</th>\n",
       "      <td>22.82</td>\n",
       "      <td>Male</td>\n",
       "      <td>No</td>\n",
       "      <td>Thur</td>\n",
       "      <td>Lunch</td>\n",
       "      <td>3</td>\n",
       "    </tr>\n",
       "    <tr>\n",
       "      <th>185</th>\n",
       "      <td>20.69</td>\n",
       "      <td>Male</td>\n",
       "      <td>No</td>\n",
       "      <td>Sun</td>\n",
       "      <td>Dinner</td>\n",
       "      <td>5</td>\n",
       "    </tr>\n",
       "  </tbody>\n",
       "</table>\n",
       "<p>74 rows × 6 columns</p>\n",
       "</div>"
      ],
      "text/plain": [
       "     total_bill     sex smoker   day    time  size\n",
       "132       11.17  Female     No  Thur   Lunch     2\n",
       "79        17.29    Male     No  Thur   Lunch     2\n",
       "56        38.01    Male    Yes   Sat  Dinner     4\n",
       "199       13.51    Male    Yes  Thur   Lunch     2\n",
       "23        39.42    Male     No   Sat  Dinner     4\n",
       "..          ...     ...    ...   ...     ...   ...\n",
       "3         23.68    Male     No   Sun  Dinner     2\n",
       "186       20.90  Female    Yes   Sun  Dinner     3\n",
       "62        11.02    Male    Yes   Sat  Dinner     2\n",
       "129       22.82    Male     No  Thur   Lunch     3\n",
       "185       20.69    Male     No   Sun  Dinner     5\n",
       "\n",
       "[74 rows x 6 columns]"
      ]
     },
     "execution_count": 66,
     "metadata": {},
     "output_type": "execute_result"
    }
   ],
   "source": [
    "X_train_2\n",
    "X_test_2"
   ]
  },
  {
   "cell_type": "code",
   "execution_count": 67,
   "id": "c5a0989a",
   "metadata": {
    "ExecuteTime": {
     "end_time": "2022-12-01T11:00:38.296756Z",
     "start_time": "2022-12-01T11:00:38.278569Z"
    }
   },
   "outputs": [],
   "source": [
    "X_test_2_prep_df = scaler_features(X_train_2, X_test_2)\n"
   ]
  },
  {
   "cell_type": "code",
   "execution_count": 68,
   "id": "63454072",
   "metadata": {
    "ExecuteTime": {
     "end_time": "2022-12-01T11:00:38.314322Z",
     "start_time": "2022-12-01T11:00:38.299399Z"
    }
   },
   "outputs": [
    {
     "data": {
      "text/plain": [
       "0.3484015613334338"
      ]
     },
     "execution_count": 68,
     "metadata": {},
     "output_type": "execute_result"
    }
   ],
   "source": [
    "lg_2.score(X_test_2_prep_df,y_test_2)"
   ]
  },
  {
   "cell_type": "code",
   "execution_count": null,
   "id": "537c54a5",
   "metadata": {
    "ExecuteTime": {
     "end_time": "2022-11-28T14:49:58.529320Z",
     "start_time": "2022-11-28T14:49:58.374116Z"
    }
   },
   "outputs": [],
   "source": []
  },
  {
   "cell_type": "code",
   "execution_count": null,
   "id": "44791bdf",
   "metadata": {},
   "outputs": [],
   "source": []
  }
 ],
 "metadata": {
  "hide_input": false,
  "kernelspec": {
   "display_name": "Python 3.8.12 64-bit ('shims')",
   "language": "python",
   "name": "python3"
  },
  "language_info": {
   "codemirror_mode": {
    "name": "ipython",
    "version": 3
   },
   "file_extension": ".py",
   "mimetype": "text/x-python",
   "name": "python",
   "nbconvert_exporter": "python",
   "pygments_lexer": "ipython3",
   "version": "3.8.12"
  },
  "toc": {
   "base_numbering": 1,
   "nav_menu": {},
   "number_sections": true,
   "sideBar": true,
   "skip_h1_title": false,
   "title_cell": "Table of Contents",
   "title_sidebar": "Contents",
   "toc_cell": false,
   "toc_position": {
    "height": "calc(100% - 180px)",
    "left": "10px",
    "top": "150px",
    "width": "288px"
   },
   "toc_section_display": true,
   "toc_window_display": true
  },
  "vscode": {
   "interpreter": {
    "hash": "e588d92b224e11b16adbbadd39936dea13a6488171770263a646fc57f44563d8"
   }
  }
 },
 "nbformat": 4,
 "nbformat_minor": 5
}
