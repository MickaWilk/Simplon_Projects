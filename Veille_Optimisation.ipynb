{
 "cells": [
  {
   "cell_type": "markdown",
   "metadata": {},
   "source": [
    "# **L'optimisation dans un projet Data**"
   ]
  },
  {
   "cell_type": "markdown",
   "metadata": {},
   "source": [
    "![](data_project.jpg)"
   ]
  },
  {
   "cell_type": "markdown",
   "metadata": {},
   "source": [
    "---\n",
    "## Formaliser les questions business\n",
    "---"
   ]
  },
  {
   "cell_type": "markdown",
   "metadata": {},
   "source": [
    "### 1. Définir les besoins business auxquels ce projet doit répondre\n",
    "### 2. Lister ses problématiques-clés et d’évaluer si l’on peut y répondre par des analyses de données\n",
    "### 3. Se poser les bonnes question:  \n",
    "- Comment mieux cibler mes prospects ?  \n",
    "- Comment acquérir des clients au meilleur coût ?  \n",
    "- Comment les fidéliser ? Quelles sont les produits/services les plus rentables de mon catalogue ?  \n",
    "- Quels sont les postes prioritaires pour réduire les coûts, optimiser les flux, les stocks ?  \n",
    "- Comment prévoir au mieux la gestion de la trésorerie ?\n",
    "\n",
    "### **Détermine en grande partie le ROI (retour sur investissement) et la réussite d’un projet data.**"
   ]
  },
  {
   "cell_type": "markdown",
   "metadata": {},
   "source": [
    "---\n",
    "## Identifier les données et les rendre accessibles\n",
    "---"
   ]
  },
  {
   "cell_type": "markdown",
   "metadata": {},
   "source": [
    "### 1. Identifier les données qui vont permettre de répondre aux questions  \n",
    "- Discuter avec les différents métiers  \n",
    "  Exemples: finance, contrôle de gestion, commercial, marketing, production, logistique…  \n",
    "### 2. Localiser les données et y accéder  \n",
    "- Lister les outils sources  \n",
    "  Exemples: ERP, back-office, outils de gestion de production ou de facturation, catalogue produits, fichier achats, base de données clients, informations du CRM, du call center, Web analytics, base de données RH…\n",
    "\n",
    "### 3. Constituer un jeu de données exploitables\n",
    "- Réunir ces données dans un nombre limité de fichiers **simples** à exploiter\n",
    "### **Extraire des données et les rendre exploitable**"
   ]
  },
  {
   "cell_type": "markdown",
   "metadata": {},
   "source": [
    "choisir l’outil informatique"
   ]
  },
  {
   "cell_type": "markdown",
   "metadata": {},
   "source": [
    "---\n",
    "## Mobiliser les ressources **nécessaires**\n",
    "---"
   ]
  },
  {
   "cell_type": "markdown",
   "metadata": {},
   "source": [
    "### 1. Elaborer une méthode\n",
    "- Quelles données pour calculer quoi ?\n",
    "- Quelles réponses attendues ?\n",
    "- Quel volume de donnée ? \n",
    "- Calcul en temps réel ou périodique ?  \n",
    "\n",
    "**Adapter l'outil dans le besoin présent et à l'avenir (Ex: Si on est amener à traiter de plus gros volume de données)**\n",
    "### 2. Déterminer l'outil adapté en réponse à ce besoin\n",
    "- Besoin d'un tank ou quelques calculs sur un  csv suffisent ?  \n",
    "- Va-t-on traiter un plus gros volume de donnée à l'avenir ?\n",
    "\n",
    "### 3. Prendre le temps nécessaire de préparation\n",
    "- Extraction des données\n",
    "- Spécification des calculs\n",
    "- Attentes / Interprétation des résultats\n",
    "### 4. Interprétation\n",
    "- Avons-nous répondus à la question ?\n",
    "- Réponses simples, synthétiques, visuelles\n",
    "- Réponses -> Prise de décision ?"
   ]
  },
  {
   "cell_type": "markdown",
   "metadata": {},
   "source": [
    "---\n",
    "## Estimation du ROI (retour sur investissement) du projet Data\n",
    "---"
   ]
  },
  {
   "cell_type": "markdown",
   "metadata": {},
   "source": [
    "### 1. Coût du projet Data (ressources engagées)\n",
    "### 2. Bénéfices estimés dans le temps (espérance de gain, investissements et charges)  \n",
    "### Exemple: **Gestion de Stock = Gain sur 1 an - (Coût d'accès aux données + temps de calcul + ressources externes)**"
   ]
  },
  {
   "cell_type": "markdown",
   "metadata": {},
   "source": [
    "## **HS Bonnes pratiques en Python**"
   ]
  },
  {
   "cell_type": "markdown",
   "metadata": {},
   "source": [
    "### **1. Comprehension de Liste**"
   ]
  },
  {
   "cell_type": "code",
   "execution_count": 1,
   "metadata": {},
   "outputs": [
    {
     "data": {
      "text/plain": [
       "50000000"
      ]
     },
     "execution_count": 1,
     "metadata": {},
     "output_type": "execute_result"
    }
   ],
   "source": [
    "input_list = [1, 2, -3, -4, 0] * 10000000\n",
    "output_list = []\n",
    "len(input_list)"
   ]
  },
  {
   "cell_type": "code",
   "execution_count": 2,
   "metadata": {},
   "outputs": [],
   "source": [
    "for x in input_list:\n",
    "  if x >= 0:\n",
    "      output_list.append(1)\n",
    "  else:\n",
    "      output_list.append(0)"
   ]
  },
  {
   "cell_type": "code",
   "execution_count": 3,
   "metadata": {},
   "outputs": [],
   "source": [
    "output_list = [1 if x >= 0 else 0 for x in input_list]"
   ]
  },
  {
   "cell_type": "markdown",
   "metadata": {},
   "source": [
    "### En résumé: On passe de:\n",
    "**\"Pour ça, fais: ça, ça, ça\" (LENT)** \n",
    " \n",
    "à  \n",
    "   \n",
    "**\"Ca = La totalité de ce que je veux que tu fasses\" (+ RAPIDE)**"
   ]
  },
  {
   "cell_type": "markdown",
   "metadata": {},
   "source": [
    "---\n",
    "### **2. Éviter les For**"
   ]
  },
  {
   "cell_type": "code",
   "execution_count": 4,
   "metadata": {},
   "outputs": [],
   "source": [
    "output_list = [0] * len(input_list) # Au lieu de for x in input_list: output_list.append(resultat)"
   ]
  },
  {
   "cell_type": "code",
   "execution_count": 5,
   "metadata": {},
   "outputs": [],
   "source": [
    "output_list = [0 for x in input_list]"
   ]
  },
  {
   "cell_type": "code",
   "execution_count": 6,
   "metadata": {},
   "outputs": [],
   "source": [
    "output_list = [0 for x in range(len(input_list))]"
   ]
  },
  {
   "cell_type": "code",
   "execution_count": 7,
   "metadata": {},
   "outputs": [],
   "source": [
    "for i in range(len(input_list)):\n",
    "  if input_list[i] >= 0:\n",
    "      output_list[i] = 1\n",
    "  else:\n",
    "      output_list[i] = 0"
   ]
  },
  {
   "cell_type": "markdown",
   "metadata": {},
   "source": [
    "### **3. Éviter les fonctions inutiles**"
   ]
  },
  {
   "cell_type": "markdown",
   "metadata": {},
   "source": [
    "- Plus vous utilisez de fonctions, plus vous irez lentement\n",
    "- Plus vous effectuez d'opérations d'élément à élément à travers Python plus vous ralentissez votre code\n",
    "- Evitez les \"Getter\" et \"Setter\"\n",
    "- EXEMPLE\n",
    "<pre><code>class Personne:\n",
    "     def __init__(self):\n",
    "          self._age = 0\n",
    "\n",
    "     def get_age(self):\n",
    "         print(\"getter method called\")\n",
    "         return self._age\n",
    "       \n",
    "     def set_age(self, a):\n",
    "         print(\"setter method called\")\n",
    "         self._age = a\n",
    "  \n",
    "     def del_age(self):\n",
    "         del self._age\n",
    "</code></pre>\n"
   ]
  },
  {
   "cell_type": "code",
   "execution_count": 8,
   "metadata": {},
   "outputs": [],
   "source": [
    "for i in range(len(input_list) * 2):\n",
    "    pass"
   ]
  },
  {
   "cell_type": "code",
   "execution_count": 9,
   "metadata": {},
   "outputs": [],
   "source": [
    "def f():\n",
    "    pass\n",
    "for i in range(len(input_list) * 2):\n",
    "    f()"
   ]
  },
  {
   "cell_type": "markdown",
   "metadata": {},
   "source": [
    "### **4. Préférez les \"built-in functions\" aux fonctions faites main**\n",
    "- sum(), map(), reduce(), etc..."
   ]
  },
  {
   "cell_type": "markdown",
   "metadata": {},
   "source": [
    "### **5. Abusez des librairies codées en C / C++ (Numpy, Pandas, SciPy, scikit-image, scikit-learn,...)**\n",
    "- TOUJOURS chercher une librairie qui fait le travail\n",
    "- Si ce n'est pas possible, s'intéresser à **[Cython] https://cython.readthedocs.io/en/latest/index.html** et/ou **[Numba] https://numba.pydata.org/**"
   ]
  },
  {
   "cell_type": "markdown",
   "metadata": {},
   "source": [
    "[Source] https://ilovesymposia.com/2015/12/10/the-cost-of-a-python-function-call/"
   ]
  }
 ],
 "metadata": {
  "kernelspec": {
   "display_name": "Python 3.8.12 64-bit ('shims')",
   "language": "python",
   "name": "python3"
  },
  "language_info": {
   "codemirror_mode": {
    "name": "ipython",
    "version": 3
   },
   "file_extension": ".py",
   "mimetype": "text/x-python",
   "name": "python",
   "nbconvert_exporter": "python",
   "pygments_lexer": "ipython3",
   "version": "3.8.12"
  },
  "orig_nbformat": 4,
  "vscode": {
   "interpreter": {
    "hash": "e588d92b224e11b16adbbadd39936dea13a6488171770263a646fc57f44563d8"
   }
  }
 },
 "nbformat": 4,
 "nbformat_minor": 2
}
