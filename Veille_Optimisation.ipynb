{
 "cells": [
  {
   "cell_type": "markdown",
   "metadata": {},
   "source": [
    "# **Optimisation dans un projet Data**"
   ]
  },
  {
   "cell_type": "markdown",
   "metadata": {},
   "source": [
    "## **Python**"
   ]
  },
  {
   "cell_type": "markdown",
   "metadata": {},
   "source": [
    "### **1. Comprehension de Liste**"
   ]
  },
  {
   "cell_type": "code",
   "execution_count": 137,
   "metadata": {},
   "outputs": [
    {
     "data": {
      "text/plain": [
       "50000000"
      ]
     },
     "execution_count": 137,
     "metadata": {},
     "output_type": "execute_result"
    }
   ],
   "source": [
    "input_list = [1, 2, -3, -4, 0] * 10000000\n",
    "output_list = []\n",
    "len(input_list)"
   ]
  },
  {
   "cell_type": "code",
   "execution_count": 138,
   "metadata": {},
   "outputs": [],
   "source": [
    "for x in input_list:\n",
    "  if x >= 0:\n",
    "      output_list.append(1)\n",
    "  else:\n",
    "      output_list.append(0)"
   ]
  },
  {
   "cell_type": "code",
   "execution_count": 139,
   "metadata": {},
   "outputs": [],
   "source": [
    "output_list = [1 if x >= 0 else 0 for x in input_list]"
   ]
  },
  {
   "cell_type": "markdown",
   "metadata": {},
   "source": [
    "### En résumé: On passe de:\n",
    "**\"Pour ça, fais: ça, ça, ça\" (LENT)** \n",
    " \n",
    "à  \n",
    "   \n",
    "**\"Ca = La totalité de ce que je veux que tu fasses\" (+ RAPIDE)**"
   ]
  },
  {
   "cell_type": "markdown",
   "metadata": {},
   "source": [
    "---\n",
    "### **2. Éviter les For**"
   ]
  },
  {
   "cell_type": "code",
   "execution_count": 125,
   "metadata": {},
   "outputs": [],
   "source": [
    "output_list = [0] * len(input_list) # Au lieu de for x in input_list: output_list.append(resultat)"
   ]
  },
  {
   "cell_type": "code",
   "execution_count": 127,
   "metadata": {},
   "outputs": [],
   "source": [
    "output_list = [0 for x in input_list]"
   ]
  },
  {
   "cell_type": "code",
   "execution_count": 131,
   "metadata": {},
   "outputs": [],
   "source": [
    "output_list = [0 for x in range(len(input_list))]"
   ]
  },
  {
   "cell_type": "code",
   "execution_count": 133,
   "metadata": {},
   "outputs": [],
   "source": [
    "for i in range(l):\n",
    "  if input_list[i] >= 0:\n",
    "      output_list[i] = 1\n",
    "  else:\n",
    "      output_list[i] = 0"
   ]
  },
  {
   "cell_type": "markdown",
   "metadata": {},
   "source": [
    "### **3. Éviter les fonctions inutiles**"
   ]
  },
  {
   "cell_type": "markdown",
   "metadata": {},
   "source": [
    "- Plus vous utilisez de fonctions, plus vous irez lentement\n",
    "- Plus vous effectuez d'opérations d'élément à élément à travers Python plus vous ralentissez votre code\n",
    "- Evitez les \"Getter\" et \"Setter\"\n",
    "- EXEMPLE\n",
    "<pre><code>class Personne:\n",
    "     def __init__(self):\n",
    "          self._age = 0\n",
    "\n",
    "     def get_age(self):\n",
    "         print(\"getter method called\")\n",
    "         return self._age\n",
    "       \n",
    "     def set_age(self, a):\n",
    "         print(\"setter method called\")\n",
    "         self._age = a\n",
    "  \n",
    "     def del_age(self):\n",
    "         del self._age\n",
    "</code></pre>\n"
   ]
  },
  {
   "cell_type": "code",
   "execution_count": 129,
   "metadata": {},
   "outputs": [],
   "source": [
    "for i in range(len(input_list) * 2):\n",
    "    pass"
   ]
  },
  {
   "cell_type": "code",
   "execution_count": 130,
   "metadata": {},
   "outputs": [],
   "source": [
    "def f():\n",
    "    pass\n",
    "for i in range(len(input_list) * 2):\n",
    "    f()"
   ]
  },
  {
   "cell_type": "markdown",
   "metadata": {},
   "source": [
    "### **4. Préférez les \"built-in functions\" aux fonctions faites main**\n",
    "- sum(), map(), reduce(), etc...\n",
    "- "
   ]
  },
  {
   "cell_type": "markdown",
   "metadata": {},
   "source": [
    "### **5. Abusez des librairies codées en C / C++ (Numpy, Pandas, SciPy, scikit-image, scikit-learn,...)**\n",
    "- TOUJOURS chercher une librairie qui fait le travail\n",
    "- Si ce n'est pas possible, s'intéresser à **[Cython] https://cython.readthedocs.io/en/latest/index.html** et/ou **[Numba] https://numba.pydata.org/**"
   ]
  },
  {
   "cell_type": "markdown",
   "metadata": {},
   "source": [
    "[Source] https://ilovesymposia.com/2015/12/10/the-cost-of-a-python-function-call/"
   ]
  }
 ],
 "metadata": {
  "kernelspec": {
   "display_name": "Python 3.10.8 64-bit (microsoft store)",
   "language": "python",
   "name": "python3"
  },
  "language_info": {
   "codemirror_mode": {
    "name": "ipython",
    "version": 3
   },
   "file_extension": ".py",
   "mimetype": "text/x-python",
   "name": "python",
   "nbconvert_exporter": "python",
   "pygments_lexer": "ipython3",
   "version": "3.10.8"
  },
  "orig_nbformat": 4,
  "vscode": {
   "interpreter": {
    "hash": "b21d6ac6766a9a9869792941c69ec68494af817f18c99840bf58a5b81e69fa2a"
   }
  }
 },
 "nbformat": 4,
 "nbformat_minor": 2
}
